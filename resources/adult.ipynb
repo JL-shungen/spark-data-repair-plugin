{
 "cells": [
  {
   "cell_type": "code",
   "execution_count": 1,
   "id": "465c5fb0-4c75-4a6f-bcc5-5850a2f43ff1",
   "metadata": {},
   "outputs": [],
   "source": [
    "package_jar = '../target/spark-data-repair-plugin_2.12_spark3.2_0.1.0-EXPERIMENTAL-with-dependencies.jar'"
   ]
  },
  {
   "cell_type": "code",
   "execution_count": 2,
   "id": "47aa7788-c12a-471e-b42d-ba594b18fe12",
   "metadata": {},
   "outputs": [
    {
     "name": "stderr",
     "output_type": "stream",
     "text": [
      "NOTE: SPARK_PREPEND_CLASSES is set, placing locally compiled Spark classes ahead of assembly.\n",
      "21/11/22 23:56:26 WARN Utils: Your hostname, maropus-MacBook-Pro.local resolves to a loopback address: 127.0.0.1; using 192.168.3.4 instead (on interface en0)\n",
      "21/11/22 23:56:26 WARN Utils: Set SPARK_LOCAL_IP if you need to bind to another address\n",
      "21/11/22 23:56:27 WARN NativeCodeLoader: Unable to load native-hadoop library for your platform... using builtin-java classes where applicable\n",
      "Using Spark's default log4j profile: org/apache/spark/log4j-defaults.properties\n",
      "Setting default log level to \"WARN\".\n",
      "To adjust logging level use sc.setLogLevel(newLevel). For SparkR, use setLogLevel(newLevel).\n",
      "21/11/22 23:56:28 WARN Utils: Service 'SparkUI' could not bind on port 4040. Attempting port 4041.\n"
     ]
    }
   ],
   "source": [
    "import numpy as np\n",
    "import pandas as pd\n",
    "from pyspark.sql import *\n",
    "from pyspark.sql.types import *\n",
    "from pyspark.sql import functions as f\n",
    "\n",
    "spark = SparkSession.builder \\\n",
    "    .config('spark.jars', package_jar) \\\n",
    "    .config('spark.deriver.memory', '8g') \\\n",
    "    .enableHiveSupport() \\\n",
    "    .getOrCreate()\n",
    "\n",
    "# Suppresses user warinig messages in Python\n",
    "import warnings\n",
    "warnings.simplefilter(\"ignore\", UserWarning)\n",
    "\n",
    "# Suppresses `WARN` messages in JVM\n",
    "spark.sparkContext.setLogLevel(\"ERROR\")"
   ]
  },
  {
   "cell_type": "code",
   "execution_count": 3,
   "id": "9065ccfd-2771-4013-9c50-23d058c3515c",
   "metadata": {},
   "outputs": [
    {
     "data": {
      "text/plain": [
       "'0.1.0-spark3.2-EXPERIMENTAL'"
      ]
     },
     "execution_count": 3,
     "metadata": {},
     "output_type": "execute_result"
    }
   ],
   "source": [
    "from repair.api import Delphi\n",
    "Delphi().version()"
   ]
  },
  {
   "cell_type": "code",
   "execution_count": 4,
   "id": "3d19cdb0-a569-4e8f-94d8-4dff2cfcfa4b",
   "metadata": {},
   "outputs": [
    {
     "name": "stdout",
     "output_type": "stream",
     "text": [
      "root\n",
      " |-- tid: string (nullable = true)\n",
      " |-- Age: string (nullable = true)\n",
      " |-- Education: string (nullable = true)\n",
      " |-- Occupation: string (nullable = true)\n",
      " |-- Relationship: string (nullable = true)\n",
      " |-- Sex: string (nullable = true)\n",
      " |-- Country: string (nullable = true)\n",
      " |-- Income: string (nullable = true)\n",
      "\n"
     ]
    }
   ],
   "source": [
    "spark.read.option(\"header\", True).csv(\"../testdata/adult.csv\").createOrReplaceTempView(\"adult\")\n",
    "spark.table('adult').printSchema()"
   ]
  },
  {
   "cell_type": "code",
   "execution_count": 5,
   "id": "2933e731-3528-4a6d-baf9-816202239d6b",
   "metadata": {},
   "outputs": [
    {
     "data": {
      "text/html": [
       "\n",
       "<div id=\"altair-viz-321140f7c36f4aa8ac8aec603a87ee9a\"></div>\n",
       "<script type=\"text/javascript\">\n",
       "  (function(spec, embedOpt){\n",
       "    let outputDiv = document.currentScript.previousElementSibling;\n",
       "    if (outputDiv.id !== \"altair-viz-321140f7c36f4aa8ac8aec603a87ee9a\") {\n",
       "      outputDiv = document.getElementById(\"altair-viz-321140f7c36f4aa8ac8aec603a87ee9a\");\n",
       "    }\n",
       "    const paths = {\n",
       "      \"vega\": \"https://cdn.jsdelivr.net/npm//vega@5?noext\",\n",
       "      \"vega-lib\": \"https://cdn.jsdelivr.net/npm//vega-lib?noext\",\n",
       "      \"vega-lite\": \"https://cdn.jsdelivr.net/npm//vega-lite@4.8.1?noext\",\n",
       "      \"vega-embed\": \"https://cdn.jsdelivr.net/npm//vega-embed@6?noext\",\n",
       "    };\n",
       "\n",
       "    function loadScript(lib) {\n",
       "      return new Promise(function(resolve, reject) {\n",
       "        var s = document.createElement('script');\n",
       "        s.src = paths[lib];\n",
       "        s.async = true;\n",
       "        s.onload = () => resolve(paths[lib]);\n",
       "        s.onerror = () => reject(`Error loading script: ${paths[lib]}`);\n",
       "        document.getElementsByTagName(\"head\")[0].appendChild(s);\n",
       "      });\n",
       "    }\n",
       "\n",
       "    function showError(err) {\n",
       "      outputDiv.innerHTML = `<div class=\"error\" style=\"color:red;\">${err}</div>`;\n",
       "      throw err;\n",
       "    }\n",
       "\n",
       "    function displayChart(vegaEmbed) {\n",
       "      vegaEmbed(outputDiv, spec, embedOpt)\n",
       "        .catch(err => showError(`Javascript Error: ${err.message}<br>This usually means there's a typo in your chart specification. See the javascript console for the full traceback.`));\n",
       "    }\n",
       "\n",
       "    if(typeof define === \"function\" && define.amd) {\n",
       "      requirejs.config({paths});\n",
       "      require([\"vega-embed\"], displayChart, err => showError(`Error loading script: ${err.message}`));\n",
       "    } else if (typeof vegaEmbed === \"function\") {\n",
       "      displayChart(vegaEmbed);\n",
       "    } else {\n",
       "      loadScript(\"vega\")\n",
       "        .then(() => loadScript(\"vega-lite\"))\n",
       "        .then(() => loadScript(\"vega-embed\"))\n",
       "        .catch(showError)\n",
       "        .then(() => displayChart(vegaEmbed));\n",
       "    }\n",
       "  })({\"config\": {\"view\": {\"continuousWidth\": 400, \"continuousHeight\": 300}}, \"hconcat\": [{\"mark\": \"bar\", \"encoding\": {\"x\": {\"type\": \"nominal\", \"field\": \"Age\"}, \"y\": {\"type\": \"quantitative\", \"aggregate\": \"count\", \"axis\": {\"title\": \"freq\"}}}, \"height\": 300, \"width\": 300}, {\"mark\": \"bar\", \"encoding\": {\"x\": {\"type\": \"nominal\", \"field\": \"Education\"}, \"y\": {\"type\": \"quantitative\", \"aggregate\": \"count\", \"axis\": {\"title\": \"freq\"}}}, \"height\": 300, \"width\": 300}, {\"mark\": \"bar\", \"encoding\": {\"x\": {\"type\": \"nominal\", \"field\": \"Occupation\"}, \"y\": {\"type\": \"quantitative\", \"aggregate\": \"count\", \"axis\": {\"title\": \"freq\"}}}, \"height\": 300, \"width\": 300}, {\"mark\": \"bar\", \"encoding\": {\"x\": {\"type\": \"nominal\", \"field\": \"Relationship\"}, \"y\": {\"type\": \"quantitative\", \"aggregate\": \"count\", \"axis\": {\"title\": \"freq\"}}}, \"height\": 300, \"width\": 300}, {\"mark\": \"bar\", \"encoding\": {\"x\": {\"type\": \"nominal\", \"field\": \"Sex\"}, \"y\": {\"type\": \"quantitative\", \"aggregate\": \"count\", \"axis\": {\"title\": \"freq\"}}}, \"height\": 300, \"width\": 300}, {\"mark\": \"bar\", \"encoding\": {\"x\": {\"type\": \"nominal\", \"field\": \"Country\"}, \"y\": {\"type\": \"quantitative\", \"aggregate\": \"count\", \"axis\": {\"title\": \"freq\"}}}, \"height\": 300, \"width\": 300}, {\"mark\": \"bar\", \"encoding\": {\"x\": {\"type\": \"nominal\", \"field\": \"Income\"}, \"y\": {\"type\": \"quantitative\", \"aggregate\": \"count\", \"axis\": {\"title\": \"freq\"}}}, \"height\": 300, \"width\": 300}], \"data\": {\"name\": \"data-ea17327783dababcd072c6abd00a2be3\"}, \"$schema\": \"https://vega.github.io/schema/vega-lite/v4.8.1.json\", \"datasets\": {\"data-ea17327783dababcd072c6abd00a2be3\": [{\"tid\": \"0\", \"Age\": \"31-50\", \"Education\": \"Some-college\", \"Occupation\": \"Craft-repair\", \"Relationship\": \"Husband\", \"Sex\": \"Male\", \"Country\": \"United-States\", \"Income\": \"LessThan50K\"}, {\"tid\": \"1\", \"Age\": \">50\", \"Education\": \"Some-college\", \"Occupation\": \"Exec-managerial\", \"Relationship\": \"Own-child\", \"Sex\": \"Female\", \"Country\": \"United-States\", \"Income\": \"LessThan50K\"}, {\"tid\": \"2\", \"Age\": \"31-50\", \"Education\": \"Bachelors\", \"Occupation\": \"Sales\", \"Relationship\": \"Husband\", \"Sex\": \"Male\", \"Country\": \"United-States\", \"Income\": \"LessThan50K\"}, {\"tid\": \"3\", \"Age\": \"22-30\", \"Education\": \"HS-grad\", \"Occupation\": \"Craft-repair\", \"Relationship\": \"Own-child\", \"Sex\": null, \"Country\": \"United-States\", \"Income\": \"LessThan50K\"}, {\"tid\": \"4\", \"Age\": \"22-30\", \"Education\": \"HS-grad\", \"Occupation\": \"Farming-fishing\", \"Relationship\": \"Husband\", \"Sex\": \"Female\", \"Country\": \"United-States\", \"Income\": \"LessThan50K\"}, {\"tid\": \"5\", \"Age\": null, \"Education\": \"Some-college\", \"Occupation\": \"Craft-repair\", \"Relationship\": \"Husband\", \"Sex\": \"Male\", \"Country\": \"United-States\", \"Income\": null}, {\"tid\": \"6\", \"Age\": \"31-50\", \"Education\": \"HS-grad\", \"Occupation\": \"Prof-specialty\", \"Relationship\": \"Not-in-family\", \"Sex\": \"Female\", \"Country\": \"United-States\", \"Income\": \"LessThan50K\"}, {\"tid\": \"7\", \"Age\": \"31-50\", \"Education\": \"Prof-school\", \"Occupation\": \"Prof-specialty\", \"Relationship\": \"Husband\", \"Sex\": null, \"Country\": \"India\", \"Income\": \"MoreThan50K\"}, {\"tid\": \"8\", \"Age\": \"18-21\", \"Education\": \"Some-college\", \"Occupation\": \"Adm-clerical\", \"Relationship\": \"Own-child\", \"Sex\": \"Female\", \"Country\": \"United-States\", \"Income\": \"LessThan50K\"}, {\"tid\": \"9\", \"Age\": \">50\", \"Education\": \"HS-grad\", \"Occupation\": \"Farming-fishing\", \"Relationship\": \"Husband\", \"Sex\": \"Male\", \"Country\": \"United-States\", \"Income\": \"LessThan50K\"}, {\"tid\": \"10\", \"Age\": \">50\", \"Education\": \"Assoc-voc\", \"Occupation\": \"Prof-specialty\", \"Relationship\": \"Husband\", \"Sex\": \"Male\", \"Country\": \"United-States\", \"Income\": \"LessThan50K\"}, {\"tid\": \"11\", \"Age\": \">50\", \"Education\": \"HS-grad\", \"Occupation\": \"Sales\", \"Relationship\": \"Husband\", \"Sex\": \"Female\", \"Country\": \"United-States\", \"Income\": \"MoreThan50K\"}, {\"tid\": \"12\", \"Age\": null, \"Education\": \"Bachelors\", \"Occupation\": \"Exec-managerial\", \"Relationship\": \"Husband\", \"Sex\": null, \"Country\": \"United-States\", \"Income\": \"MoreThan50K\"}, {\"tid\": \"13\", \"Age\": \"22-30\", \"Education\": \"HS-grad\", \"Occupation\": \"Craft-repair\", \"Relationship\": \"Not-in-family\", \"Sex\": \"Male\", \"Country\": \"United-States\", \"Income\": \"LessThan50K\"}, {\"tid\": \"14\", \"Age\": \"31-50\", \"Education\": \"Assoc-acdm\", \"Occupation\": \"Exec-managerial\", \"Relationship\": \"Unmarried\", \"Sex\": \"Male\", \"Country\": \"United-States\", \"Income\": \"LessThan50K\"}, {\"tid\": \"15\", \"Age\": \"22-30\", \"Education\": \"Some-college\", \"Occupation\": \"Sales\", \"Relationship\": \"Own-child\", \"Sex\": \"Male\", \"Country\": \"United-States\", \"Income\": \"LessThan50K\"}, {\"tid\": \"16\", \"Age\": \">50\", \"Education\": \"Some-college\", \"Occupation\": \"Exec-managerial\", \"Relationship\": \"Unmarried\", \"Sex\": \"Female\", \"Country\": \"United-States\", \"Income\": null}, {\"tid\": \"17\", \"Age\": \"31-50\", \"Education\": \"HS-grad\", \"Occupation\": \"Adm-clerical\", \"Relationship\": \"Not-in-family\", \"Sex\": \"Female\", \"Country\": \"United-States\", \"Income\": \"LessThan50K\"}, {\"tid\": \"18\", \"Age\": \"31-50\", \"Education\": \"10th\", \"Occupation\": \"Handlers-cleaners\", \"Relationship\": \"Husband\", \"Sex\": \"Male\", \"Country\": \"United-States\", \"Income\": \"LessThan50K\"}, {\"tid\": \"19\", \"Age\": \"31-50\", \"Education\": \"HS-grad\", \"Occupation\": \"Sales\", \"Relationship\": \"Husband\", \"Sex\": \"Male\", \"Country\": \"Iran\", \"Income\": \"MoreThan50K\"}]}}, {\"mode\": \"vega-lite\"});\n",
       "</script>"
      ],
      "text/plain": [
       "alt.HConcatChart(...)"
      ]
     },
     "execution_count": 5,
     "metadata": {},
     "output_type": "execute_result"
    }
   ],
   "source": [
    "import altair as alt\n",
    "\n",
    "charts = []\n",
    "pdf = spark.table('adult').toPandas()\n",
    "\n",
    "for c in [c for c in pdf.columns if c != 'tid']:\n",
    "    charts.append(alt.Chart(pdf).mark_bar().encode(x=alt.X(c), y=alt.Y('count()', axis=alt.Axis(title='freq'))).properties(width=300, height=300))\n",
    "\n",
    "alt.hconcat(*charts)"
   ]
  },
  {
   "cell_type": "code",
   "execution_count": 9,
   "id": "fafe6344-04ff-4acf-bd26-59555e0a6c0d",
   "metadata": {},
   "outputs": [
    {
     "name": "stderr",
     "output_type": "stream",
     "text": [
      "                                                                                \r"
     ]
    }
   ],
   "source": [
    "from repair.detectors import NullErrorDetector, ConstraintErrorDetector\n",
    "error_detectors = [ \n",
    "    ConstraintErrorDetector(constraint_path=\"../testdata/adult_constraints.txt\"),\n",
    "    NullErrorDetector()\n",
    "]\n",
    "\n",
    "from repair.model import RepairModel\n",
    "model = RepairModel().setTableName('adult').setRowId('tid')\n",
    "noisy_cells_df, noisy_columns = model.setErrorDetectors(error_detectors)._detect_errors('adult')"
   ]
  },
  {
   "cell_type": "code",
   "execution_count": 10,
   "id": "5de8f557-56f5-4647-98aa-9d65d91b7124",
   "metadata": {},
   "outputs": [
    {
     "data": {
      "text/html": [
       "\n",
       "<div id=\"altair-viz-0ec06f7965d2400ab9b62978db5738de\"></div>\n",
       "<script type=\"text/javascript\">\n",
       "  (function(spec, embedOpt){\n",
       "    let outputDiv = document.currentScript.previousElementSibling;\n",
       "    if (outputDiv.id !== \"altair-viz-0ec06f7965d2400ab9b62978db5738de\") {\n",
       "      outputDiv = document.getElementById(\"altair-viz-0ec06f7965d2400ab9b62978db5738de\");\n",
       "    }\n",
       "    const paths = {\n",
       "      \"vega\": \"https://cdn.jsdelivr.net/npm//vega@5?noext\",\n",
       "      \"vega-lib\": \"https://cdn.jsdelivr.net/npm//vega-lib?noext\",\n",
       "      \"vega-lite\": \"https://cdn.jsdelivr.net/npm//vega-lite@4.8.1?noext\",\n",
       "      \"vega-embed\": \"https://cdn.jsdelivr.net/npm//vega-embed@6?noext\",\n",
       "    };\n",
       "\n",
       "    function loadScript(lib) {\n",
       "      return new Promise(function(resolve, reject) {\n",
       "        var s = document.createElement('script');\n",
       "        s.src = paths[lib];\n",
       "        s.async = true;\n",
       "        s.onload = () => resolve(paths[lib]);\n",
       "        s.onerror = () => reject(`Error loading script: ${paths[lib]}`);\n",
       "        document.getElementsByTagName(\"head\")[0].appendChild(s);\n",
       "      });\n",
       "    }\n",
       "\n",
       "    function showError(err) {\n",
       "      outputDiv.innerHTML = `<div class=\"error\" style=\"color:red;\">${err}</div>`;\n",
       "      throw err;\n",
       "    }\n",
       "\n",
       "    function displayChart(vegaEmbed) {\n",
       "      vegaEmbed(outputDiv, spec, embedOpt)\n",
       "        .catch(err => showError(`Javascript Error: ${err.message}<br>This usually means there's a typo in your chart specification. See the javascript console for the full traceback.`));\n",
       "    }\n",
       "\n",
       "    if(typeof define === \"function\" && define.amd) {\n",
       "      requirejs.config({paths});\n",
       "      require([\"vega-embed\"], displayChart, err => showError(`Error loading script: ${err.message}`));\n",
       "    } else if (typeof vegaEmbed === \"function\") {\n",
       "      displayChart(vegaEmbed);\n",
       "    } else {\n",
       "      loadScript(\"vega\")\n",
       "        .then(() => loadScript(\"vega-lite\"))\n",
       "        .then(() => loadScript(\"vega-embed\"))\n",
       "        .catch(showError)\n",
       "        .then(() => displayChart(vegaEmbed));\n",
       "    }\n",
       "  })({\"config\": {\"view\": {\"continuousWidth\": 400, \"continuousHeight\": 300}}, \"data\": {\"name\": \"data-500b3f534e37d38058d6b8d7ecc26f14\"}, \"mark\": \"bar\", \"encoding\": {\"x\": {\"type\": \"nominal\", \"field\": \"attribute\"}, \"y\": {\"type\": \"quantitative\", \"aggregate\": \"count\", \"axis\": {\"title\": \"freq\"}}}, \"height\": 400, \"width\": 400, \"$schema\": \"https://vega.github.io/schema/vega-lite/v4.8.1.json\", \"datasets\": {\"data-500b3f534e37d38058d6b8d7ecc26f14\": [{\"tid\": \"3\", \"attribute\": \"Sex\", \"current_value\": null}, {\"tid\": \"4\", \"attribute\": \"Relationship\", \"current_value\": \"Husband\"}, {\"tid\": \"4\", \"attribute\": \"Sex\", \"current_value\": \"Female\"}, {\"tid\": \"5\", \"attribute\": \"Age\", \"current_value\": null}, {\"tid\": \"5\", \"attribute\": \"Income\", \"current_value\": null}, {\"tid\": \"7\", \"attribute\": \"Sex\", \"current_value\": null}, {\"tid\": \"11\", \"attribute\": \"Relationship\", \"current_value\": \"Husband\"}, {\"tid\": \"11\", \"attribute\": \"Sex\", \"current_value\": \"Female\"}, {\"tid\": \"12\", \"attribute\": \"Sex\", \"current_value\": null}, {\"tid\": \"12\", \"attribute\": \"Age\", \"current_value\": null}, {\"tid\": \"16\", \"attribute\": \"Income\", \"current_value\": null}]}}, {\"mode\": \"vega-lite\"});\n",
       "</script>"
      ],
      "text/plain": [
       "alt.Chart(...)"
      ]
     },
     "execution_count": 10,
     "metadata": {},
     "output_type": "execute_result"
    }
   ],
   "source": [
    "import altair as alt\n",
    "\n",
    "pdf = noisy_cells_df.toPandas()\n",
    "alt.Chart(pdf).mark_bar().encode(x=alt.X('attribute'), y=alt.Y('count()', axis=alt.Axis(title='freq'))).properties(width=400, height=400)"
   ]
  },
  {
   "cell_type": "code",
   "execution_count": 11,
   "id": "f793a79a-1b7f-49ea-aea8-1ef51c2efe97",
   "metadata": {},
   "outputs": [
    {
     "data": {
      "text/plain": [
       "['Age', 'Education', 'Occupation', 'Relationship', 'Sex', 'Country', 'Income']"
      ]
     },
     "execution_count": 11,
     "metadata": {},
     "output_type": "execute_result"
    }
   ],
   "source": [
    "discretized_table, discretized_columns, distinct_stats = model._discretize_attrs('adult')\n",
    "discretized_columns"
   ]
  },
  {
   "cell_type": "code",
   "execution_count": 12,
   "id": "df771bbe-0139-4ede-84fd-5990be8d0833",
   "metadata": {},
   "outputs": [
    {
     "data": {
      "text/plain": [
       "['Income', 'Age', 'Relationship', 'Sex']"
      ]
     },
     "execution_count": 12,
     "metadata": {},
     "output_type": "execute_result"
    }
   ],
   "source": [
    "target_columns = list(filter(lambda c: c in discretized_columns, noisy_columns))\n",
    "target_columns"
   ]
  },
  {
   "cell_type": "code",
   "execution_count": 17,
   "id": "5d7df73c-0a38-4351-9f8d-7d73cbaa2e89",
   "metadata": {},
   "outputs": [
    {
     "data": {
      "text/html": [
       "\n",
       "<div id=\"altair-viz-61e993be88894d279dea76b7e322f8a9\"></div>\n",
       "<script type=\"text/javascript\">\n",
       "  (function(spec, embedOpt){\n",
       "    let outputDiv = document.currentScript.previousElementSibling;\n",
       "    if (outputDiv.id !== \"altair-viz-61e993be88894d279dea76b7e322f8a9\") {\n",
       "      outputDiv = document.getElementById(\"altair-viz-61e993be88894d279dea76b7e322f8a9\");\n",
       "    }\n",
       "    const paths = {\n",
       "      \"vega\": \"https://cdn.jsdelivr.net/npm//vega@5?noext\",\n",
       "      \"vega-lib\": \"https://cdn.jsdelivr.net/npm//vega-lib?noext\",\n",
       "      \"vega-lite\": \"https://cdn.jsdelivr.net/npm//vega-lite@4.8.1?noext\",\n",
       "      \"vega-embed\": \"https://cdn.jsdelivr.net/npm//vega-embed@6?noext\",\n",
       "    };\n",
       "\n",
       "    function loadScript(lib) {\n",
       "      return new Promise(function(resolve, reject) {\n",
       "        var s = document.createElement('script');\n",
       "        s.src = paths[lib];\n",
       "        s.async = true;\n",
       "        s.onload = () => resolve(paths[lib]);\n",
       "        s.onerror = () => reject(`Error loading script: ${paths[lib]}`);\n",
       "        document.getElementsByTagName(\"head\")[0].appendChild(s);\n",
       "      });\n",
       "    }\n",
       "\n",
       "    function showError(err) {\n",
       "      outputDiv.innerHTML = `<div class=\"error\" style=\"color:red;\">${err}</div>`;\n",
       "      throw err;\n",
       "    }\n",
       "\n",
       "    function displayChart(vegaEmbed) {\n",
       "      vegaEmbed(outputDiv, spec, embedOpt)\n",
       "        .catch(err => showError(`Javascript Error: ${err.message}<br>This usually means there's a typo in your chart specification. See the javascript console for the full traceback.`));\n",
       "    }\n",
       "\n",
       "    if(typeof define === \"function\" && define.amd) {\n",
       "      requirejs.config({paths});\n",
       "      require([\"vega-embed\"], displayChart, err => showError(`Error loading script: ${err.message}`));\n",
       "    } else if (typeof vegaEmbed === \"function\") {\n",
       "      displayChart(vegaEmbed);\n",
       "    } else {\n",
       "      loadScript(\"vega\")\n",
       "        .then(() => loadScript(\"vega-lite\"))\n",
       "        .then(() => loadScript(\"vega-embed\"))\n",
       "        .catch(showError)\n",
       "        .then(() => displayChart(vegaEmbed));\n",
       "    }\n",
       "  })({\"config\": {\"view\": {\"continuousWidth\": 400, \"continuousHeight\": 300}}, \"hconcat\": [{\"data\": {\"name\": \"data-08fc96c881242c1f3bb9aa14cf9590e1\"}, \"mark\": \"bar\", \"encoding\": {\"x\": {\"type\": \"nominal\", \"field\": \"Income\"}, \"y\": {\"type\": \"quantitative\", \"field\": \"cor\"}}, \"height\": 200, \"width\": 200}, {\"data\": {\"name\": \"data-2d0d9a2464b434052fce79c59d2f8cf6\"}, \"mark\": \"bar\", \"encoding\": {\"x\": {\"type\": \"nominal\", \"field\": \"Age\"}, \"y\": {\"type\": \"quantitative\", \"field\": \"cor\"}}, \"height\": 200, \"width\": 200}, {\"data\": {\"name\": \"data-71b269f2180b4e74ab71af036fdd3410\"}, \"mark\": \"bar\", \"encoding\": {\"x\": {\"type\": \"nominal\", \"field\": \"Relationship\"}, \"y\": {\"type\": \"quantitative\", \"field\": \"cor\"}}, \"height\": 200, \"width\": 200}, {\"data\": {\"name\": \"data-092cb0908c67496446f8960fbfa36b03\"}, \"mark\": \"bar\", \"encoding\": {\"x\": {\"type\": \"nominal\", \"field\": \"Sex\"}, \"y\": {\"type\": \"quantitative\", \"field\": \"cor\"}}, \"height\": 200, \"width\": 200}], \"$schema\": \"https://vega.github.io/schema/vega-lite/v4.8.1.json\", \"datasets\": {\"data-08fc96c881242c1f3bb9aa14cf9590e1\": [{\"Income\": \"Education\", \"cor\": 0.6321928094887365}, {\"Income\": \"Occupation\", \"cor\": 0.6321928094887361}, {\"Income\": \"Relationship\", \"cor\": 0.6049941694545695}, {\"Income\": \"Sex\", \"cor\": 0.5691365630467342}, {\"Income\": \"Age\", \"cor\": 0.5488475063470476}, {\"Income\": \"Country\", \"cor\": 0.44440875363097787}], \"data-2d0d9a2464b434052fce79c59d2f8cf6\": [{\"Age\": \"Occupation\", \"cor\": 0.5972242171902816}, {\"Age\": \"Education\", \"cor\": 0.5160964047443684}, {\"Age\": \"Relationship\", \"cor\": 0.40499372148003177}, {\"Age\": \"Sex\", \"cor\": 0.3453922667052699}, {\"Age\": \"Income\", \"cor\": 0.3320905423142829}, {\"Age\": \"Country\", \"cor\": 0.21761554106442138}], \"data-71b269f2180b4e74ab71af036fdd3410\": [{\"Relationship\": \"Occupation\", \"cor\": 0.4999999999999999}, {\"Relationship\": \"Education\", \"cor\": 0.4999999999999999}, {\"Relationship\": \"Age\", \"cor\": 0.41887218755408673}, {\"Relationship\": \"Income\", \"cor\": 0.3740423399420988}, {\"Relationship\": \"Sex\", \"cor\": 0.31951797627815925}, {\"Relationship\": \"Country\", \"cor\": 0.2056390622295664}], \"data-092cb0908c67496446f8960fbfa36b03\": [{\"Sex\": \"Occupation\", \"cor\": 0.6860335893412777}, {\"Sex\": \"Education\", \"cor\": 0.6860335893412777}, {\"Sex\": \"Age\", \"cor\": 0.3699371845969096}, {\"Sex\": \"Income\", \"cor\": 0.36362279251462204}, {\"Sex\": \"Country\", \"cor\": 0.3043971863042252}, {\"Sex\": \"Relationship\", \"cor\": 0.2904316715945785}]}}, {\"mode\": \"vega-lite\"});\n",
       "</script>"
      ],
      "text/plain": [
       "alt.HConcatChart(...)"
      ]
     },
     "execution_count": 17,
     "metadata": {},
     "output_type": "execute_result"
    }
   ],
   "source": [
    "import altair as alt\n",
    "\n",
    "charts = []\n",
    "\n",
    "for target, cols in pairwise_stats.items():\n",
    "    pdf = pd.DataFrame(cols, columns=[target, 'cor'])\n",
    "    pdf['cor'] = pdf['cor'].astype('float')\n",
    "    charts.append(alt.Chart(pdf).mark_bar().encode(x=alt.X(target), y=alt.Y('cor')).properties(width=200, height=200))\n",
    "    \n",
    "alt.hconcat(*charts)"
   ]
  },
  {
   "cell_type": "code",
   "execution_count": 24,
   "id": "6193a6df-76b2-4af8-8692-6b3126c7ef78",
   "metadata": {},
   "outputs": [
    {
     "name": "stderr",
     "output_type": "stream",
     "text": [
      "                                                                                \r"
     ]
    }
   ],
   "source": [
    "error_cells_df, pairwise_stats = model._extract_error_cells('adult', noisy_cells_df, discretized_table, discretized_columns, [], target_columns)"
   ]
  },
  {
   "cell_type": "code",
   "execution_count": 26,
   "id": "580bc847-1638-4cea-b148-1dee41f9fe8c",
   "metadata": {},
   "outputs": [
    {
     "name": "stderr",
     "output_type": "stream",
     "text": [
      "                                                                                \r"
     ]
    }
   ],
   "source": [
    "repair_base_df = model._prepare_repair_base_cells('adult', error_cells_df, target_columns)"
   ]
  },
  {
   "cell_type": "code",
   "execution_count": 27,
   "id": "327a8e06-2d9e-413b-89e0-a5e83f788142",
   "metadata": {},
   "outputs": [
    {
     "data": {
      "text/html": [
       "\n",
       "<div id=\"altair-viz-a46e77a61af94d07b1831c80fda95cef\"></div>\n",
       "<script type=\"text/javascript\">\n",
       "  (function(spec, embedOpt){\n",
       "    let outputDiv = document.currentScript.previousElementSibling;\n",
       "    if (outputDiv.id !== \"altair-viz-a46e77a61af94d07b1831c80fda95cef\") {\n",
       "      outputDiv = document.getElementById(\"altair-viz-a46e77a61af94d07b1831c80fda95cef\");\n",
       "    }\n",
       "    const paths = {\n",
       "      \"vega\": \"https://cdn.jsdelivr.net/npm//vega@5?noext\",\n",
       "      \"vega-lib\": \"https://cdn.jsdelivr.net/npm//vega-lib?noext\",\n",
       "      \"vega-lite\": \"https://cdn.jsdelivr.net/npm//vega-lite@4.8.1?noext\",\n",
       "      \"vega-embed\": \"https://cdn.jsdelivr.net/npm//vega-embed@6?noext\",\n",
       "    };\n",
       "\n",
       "    function loadScript(lib) {\n",
       "      return new Promise(function(resolve, reject) {\n",
       "        var s = document.createElement('script');\n",
       "        s.src = paths[lib];\n",
       "        s.async = true;\n",
       "        s.onload = () => resolve(paths[lib]);\n",
       "        s.onerror = () => reject(`Error loading script: ${paths[lib]}`);\n",
       "        document.getElementsByTagName(\"head\")[0].appendChild(s);\n",
       "      });\n",
       "    }\n",
       "\n",
       "    function showError(err) {\n",
       "      outputDiv.innerHTML = `<div class=\"error\" style=\"color:red;\">${err}</div>`;\n",
       "      throw err;\n",
       "    }\n",
       "\n",
       "    function displayChart(vegaEmbed) {\n",
       "      vegaEmbed(outputDiv, spec, embedOpt)\n",
       "        .catch(err => showError(`Javascript Error: ${err.message}<br>This usually means there's a typo in your chart specification. See the javascript console for the full traceback.`));\n",
       "    }\n",
       "\n",
       "    if(typeof define === \"function\" && define.amd) {\n",
       "      requirejs.config({paths});\n",
       "      require([\"vega-embed\"], displayChart, err => showError(`Error loading script: ${err.message}`));\n",
       "    } else if (typeof vegaEmbed === \"function\") {\n",
       "      displayChart(vegaEmbed);\n",
       "    } else {\n",
       "      loadScript(\"vega\")\n",
       "        .then(() => loadScript(\"vega-lite\"))\n",
       "        .then(() => loadScript(\"vega-embed\"))\n",
       "        .catch(showError)\n",
       "        .then(() => displayChart(vegaEmbed));\n",
       "    }\n",
       "  })({\"config\": {\"view\": {\"continuousWidth\": 400, \"continuousHeight\": 300}}, \"hconcat\": [{\"mark\": \"bar\", \"encoding\": {\"x\": {\"type\": \"nominal\", \"field\": \"Age\"}, \"y\": {\"type\": \"quantitative\", \"aggregate\": \"count\", \"axis\": {\"title\": \"freq\"}}}, \"height\": 300, \"width\": 300}, {\"mark\": \"bar\", \"encoding\": {\"x\": {\"type\": \"nominal\", \"field\": \"Education\"}, \"y\": {\"type\": \"quantitative\", \"aggregate\": \"count\", \"axis\": {\"title\": \"freq\"}}}, \"height\": 300, \"width\": 300}, {\"mark\": \"bar\", \"encoding\": {\"x\": {\"type\": \"nominal\", \"field\": \"Occupation\"}, \"y\": {\"type\": \"quantitative\", \"aggregate\": \"count\", \"axis\": {\"title\": \"freq\"}}}, \"height\": 300, \"width\": 300}, {\"mark\": \"bar\", \"encoding\": {\"x\": {\"type\": \"nominal\", \"field\": \"Relationship\"}, \"y\": {\"type\": \"quantitative\", \"aggregate\": \"count\", \"axis\": {\"title\": \"freq\"}}}, \"height\": 300, \"width\": 300}, {\"mark\": \"bar\", \"encoding\": {\"x\": {\"type\": \"nominal\", \"field\": \"Sex\"}, \"y\": {\"type\": \"quantitative\", \"aggregate\": \"count\", \"axis\": {\"title\": \"freq\"}}}, \"height\": 300, \"width\": 300}, {\"mark\": \"bar\", \"encoding\": {\"x\": {\"type\": \"nominal\", \"field\": \"Country\"}, \"y\": {\"type\": \"quantitative\", \"aggregate\": \"count\", \"axis\": {\"title\": \"freq\"}}}, \"height\": 300, \"width\": 300}, {\"mark\": \"bar\", \"encoding\": {\"x\": {\"type\": \"nominal\", \"field\": \"Income\"}, \"y\": {\"type\": \"quantitative\", \"aggregate\": \"count\", \"axis\": {\"title\": \"freq\"}}}, \"height\": 300, \"width\": 300}], \"data\": {\"name\": \"data-ef5ed06e9c087a190cd2c76e47c6e935\"}, \"$schema\": \"https://vega.github.io/schema/vega-lite/v4.8.1.json\", \"datasets\": {\"data-ef5ed06e9c087a190cd2c76e47c6e935\": [{\"tid\": \"0\", \"Age\": \"31-50\", \"Education\": \"Some-college\", \"Occupation\": \"Craft-repair\", \"Relationship\": \"Husband\", \"Sex\": \"Male\", \"Country\": \"United-States\", \"Income\": \"LessThan50K\"}, {\"tid\": \"1\", \"Age\": \">50\", \"Education\": \"Some-college\", \"Occupation\": \"Exec-managerial\", \"Relationship\": \"Own-child\", \"Sex\": \"Female\", \"Country\": \"United-States\", \"Income\": \"LessThan50K\"}, {\"tid\": \"2\", \"Age\": \"31-50\", \"Education\": \"Bachelors\", \"Occupation\": \"Sales\", \"Relationship\": \"Husband\", \"Sex\": \"Male\", \"Country\": \"United-States\", \"Income\": \"LessThan50K\"}, {\"tid\": \"3\", \"Age\": \"22-30\", \"Education\": \"HS-grad\", \"Occupation\": \"Craft-repair\", \"Relationship\": \"Own-child\", \"Sex\": null, \"Country\": \"United-States\", \"Income\": \"LessThan50K\"}, {\"tid\": \"4\", \"Age\": \"22-30\", \"Education\": \"HS-grad\", \"Occupation\": \"Farming-fishing\", \"Relationship\": null, \"Sex\": null, \"Country\": \"United-States\", \"Income\": \"LessThan50K\"}, {\"tid\": \"5\", \"Age\": null, \"Education\": \"Some-college\", \"Occupation\": \"Craft-repair\", \"Relationship\": \"Husband\", \"Sex\": \"Male\", \"Country\": \"United-States\", \"Income\": null}, {\"tid\": \"6\", \"Age\": \"31-50\", \"Education\": \"HS-grad\", \"Occupation\": \"Prof-specialty\", \"Relationship\": \"Not-in-family\", \"Sex\": \"Female\", \"Country\": \"United-States\", \"Income\": \"LessThan50K\"}, {\"tid\": \"7\", \"Age\": \"31-50\", \"Education\": \"Prof-school\", \"Occupation\": \"Prof-specialty\", \"Relationship\": \"Husband\", \"Sex\": null, \"Country\": \"India\", \"Income\": \"MoreThan50K\"}, {\"tid\": \"8\", \"Age\": \"18-21\", \"Education\": \"Some-college\", \"Occupation\": \"Adm-clerical\", \"Relationship\": \"Own-child\", \"Sex\": \"Female\", \"Country\": \"United-States\", \"Income\": \"LessThan50K\"}, {\"tid\": \"9\", \"Age\": \">50\", \"Education\": \"HS-grad\", \"Occupation\": \"Farming-fishing\", \"Relationship\": \"Husband\", \"Sex\": \"Male\", \"Country\": \"United-States\", \"Income\": \"LessThan50K\"}, {\"tid\": \"10\", \"Age\": \">50\", \"Education\": \"Assoc-voc\", \"Occupation\": \"Prof-specialty\", \"Relationship\": \"Husband\", \"Sex\": \"Male\", \"Country\": \"United-States\", \"Income\": \"LessThan50K\"}, {\"tid\": \"11\", \"Age\": \">50\", \"Education\": \"HS-grad\", \"Occupation\": \"Sales\", \"Relationship\": null, \"Sex\": null, \"Country\": \"United-States\", \"Income\": \"MoreThan50K\"}, {\"tid\": \"12\", \"Age\": null, \"Education\": \"Bachelors\", \"Occupation\": \"Exec-managerial\", \"Relationship\": \"Husband\", \"Sex\": null, \"Country\": \"United-States\", \"Income\": \"MoreThan50K\"}, {\"tid\": \"13\", \"Age\": \"22-30\", \"Education\": \"HS-grad\", \"Occupation\": \"Craft-repair\", \"Relationship\": \"Not-in-family\", \"Sex\": \"Male\", \"Country\": \"United-States\", \"Income\": \"LessThan50K\"}, {\"tid\": \"14\", \"Age\": \"31-50\", \"Education\": \"Assoc-acdm\", \"Occupation\": \"Exec-managerial\", \"Relationship\": \"Unmarried\", \"Sex\": \"Male\", \"Country\": \"United-States\", \"Income\": \"LessThan50K\"}, {\"tid\": \"15\", \"Age\": \"22-30\", \"Education\": \"Some-college\", \"Occupation\": \"Sales\", \"Relationship\": \"Own-child\", \"Sex\": \"Male\", \"Country\": \"United-States\", \"Income\": \"LessThan50K\"}, {\"tid\": \"16\", \"Age\": \">50\", \"Education\": \"Some-college\", \"Occupation\": \"Exec-managerial\", \"Relationship\": \"Unmarried\", \"Sex\": \"Female\", \"Country\": \"United-States\", \"Income\": null}, {\"tid\": \"17\", \"Age\": \"31-50\", \"Education\": \"HS-grad\", \"Occupation\": \"Adm-clerical\", \"Relationship\": \"Not-in-family\", \"Sex\": \"Female\", \"Country\": \"United-States\", \"Income\": \"LessThan50K\"}, {\"tid\": \"18\", \"Age\": \"31-50\", \"Education\": \"10th\", \"Occupation\": \"Handlers-cleaners\", \"Relationship\": \"Husband\", \"Sex\": \"Male\", \"Country\": \"United-States\", \"Income\": \"LessThan50K\"}, {\"tid\": \"19\", \"Age\": \"31-50\", \"Education\": \"HS-grad\", \"Occupation\": \"Sales\", \"Relationship\": \"Husband\", \"Sex\": \"Male\", \"Country\": \"Iran\", \"Income\": \"MoreThan50K\"}]}}, {\"mode\": \"vega-lite\"});\n",
       "</script>"
      ],
      "text/plain": [
       "alt.HConcatChart(...)"
      ]
     },
     "execution_count": 27,
     "metadata": {},
     "output_type": "execute_result"
    }
   ],
   "source": [
    "import altair as alt\n",
    "\n",
    "charts = []\n",
    "pdf = repair_base_df.toPandas()\n",
    "\n",
    "for c in [c for c in pdf.columns if c != 'tid']:\n",
    "    charts.append(alt.Chart(pdf).mark_bar().encode(x=alt.X(c), y=alt.Y('count()', axis=alt.Axis(title='freq'))).properties(width=300, height=300))\n",
    "\n",
    "alt.hconcat(*charts)"
   ]
  },
  {
   "cell_type": "code",
   "execution_count": 28,
   "id": "1d06f6bb-91a4-4110-a160-cc57bf1f025f",
   "metadata": {},
   "outputs": [],
   "source": [
    "target = 'Sex'"
   ]
  },
  {
   "cell_type": "code",
   "execution_count": 29,
   "id": "3844edd5-402f-4df1-98c1-a5fde9251b63",
   "metadata": {},
   "outputs": [],
   "source": [
    "pdf = repair_base_df.toPandas()\n",
    "pdf = pdf.dropna()\n",
    "X = pdf.drop(['tid', target], axis=1).reset_index(drop=True)\n",
    "y = pdf[target].reset_index(drop=True)"
   ]
  },
  {
   "cell_type": "code",
   "execution_count": 30,
   "id": "4cfd4276-01bb-42aa-95d1-7d621a97a414",
   "metadata": {},
   "outputs": [
    {
     "data": {
      "text/html": [
       "<div>\n",
       "<style scoped>\n",
       "    .dataframe tbody tr th:only-of-type {\n",
       "        vertical-align: middle;\n",
       "    }\n",
       "\n",
       "    .dataframe tbody tr th {\n",
       "        vertical-align: top;\n",
       "    }\n",
       "\n",
       "    .dataframe thead th {\n",
       "        text-align: right;\n",
       "    }\n",
       "</style>\n",
       "<table border=\"1\" class=\"dataframe\">\n",
       "  <thead>\n",
       "    <tr style=\"text-align: right;\">\n",
       "      <th></th>\n",
       "      <th>Age</th>\n",
       "      <th>Education</th>\n",
       "      <th>Occupation</th>\n",
       "      <th>Relationship</th>\n",
       "      <th>Country</th>\n",
       "      <th>Income</th>\n",
       "    </tr>\n",
       "  </thead>\n",
       "  <tbody>\n",
       "    <tr>\n",
       "      <th>0</th>\n",
       "      <td>1</td>\n",
       "      <td>1</td>\n",
       "      <td>1</td>\n",
       "      <td>1</td>\n",
       "      <td>1</td>\n",
       "      <td>1</td>\n",
       "    </tr>\n",
       "    <tr>\n",
       "      <th>1</th>\n",
       "      <td>2</td>\n",
       "      <td>1</td>\n",
       "      <td>2</td>\n",
       "      <td>2</td>\n",
       "      <td>1</td>\n",
       "      <td>1</td>\n",
       "    </tr>\n",
       "    <tr>\n",
       "      <th>2</th>\n",
       "      <td>1</td>\n",
       "      <td>2</td>\n",
       "      <td>3</td>\n",
       "      <td>1</td>\n",
       "      <td>1</td>\n",
       "      <td>1</td>\n",
       "    </tr>\n",
       "    <tr>\n",
       "      <th>3</th>\n",
       "      <td>1</td>\n",
       "      <td>3</td>\n",
       "      <td>4</td>\n",
       "      <td>3</td>\n",
       "      <td>1</td>\n",
       "      <td>1</td>\n",
       "    </tr>\n",
       "    <tr>\n",
       "      <th>4</th>\n",
       "      <td>3</td>\n",
       "      <td>1</td>\n",
       "      <td>5</td>\n",
       "      <td>2</td>\n",
       "      <td>1</td>\n",
       "      <td>1</td>\n",
       "    </tr>\n",
       "    <tr>\n",
       "      <th>5</th>\n",
       "      <td>2</td>\n",
       "      <td>3</td>\n",
       "      <td>6</td>\n",
       "      <td>1</td>\n",
       "      <td>1</td>\n",
       "      <td>1</td>\n",
       "    </tr>\n",
       "    <tr>\n",
       "      <th>6</th>\n",
       "      <td>2</td>\n",
       "      <td>4</td>\n",
       "      <td>4</td>\n",
       "      <td>1</td>\n",
       "      <td>1</td>\n",
       "      <td>1</td>\n",
       "    </tr>\n",
       "    <tr>\n",
       "      <th>7</th>\n",
       "      <td>4</td>\n",
       "      <td>3</td>\n",
       "      <td>1</td>\n",
       "      <td>3</td>\n",
       "      <td>1</td>\n",
       "      <td>1</td>\n",
       "    </tr>\n",
       "    <tr>\n",
       "      <th>8</th>\n",
       "      <td>1</td>\n",
       "      <td>5</td>\n",
       "      <td>2</td>\n",
       "      <td>4</td>\n",
       "      <td>1</td>\n",
       "      <td>1</td>\n",
       "    </tr>\n",
       "    <tr>\n",
       "      <th>9</th>\n",
       "      <td>4</td>\n",
       "      <td>1</td>\n",
       "      <td>3</td>\n",
       "      <td>2</td>\n",
       "      <td>1</td>\n",
       "      <td>1</td>\n",
       "    </tr>\n",
       "    <tr>\n",
       "      <th>10</th>\n",
       "      <td>1</td>\n",
       "      <td>3</td>\n",
       "      <td>5</td>\n",
       "      <td>3</td>\n",
       "      <td>1</td>\n",
       "      <td>1</td>\n",
       "    </tr>\n",
       "    <tr>\n",
       "      <th>11</th>\n",
       "      <td>1</td>\n",
       "      <td>6</td>\n",
       "      <td>7</td>\n",
       "      <td>1</td>\n",
       "      <td>1</td>\n",
       "      <td>1</td>\n",
       "    </tr>\n",
       "    <tr>\n",
       "      <th>12</th>\n",
       "      <td>1</td>\n",
       "      <td>3</td>\n",
       "      <td>3</td>\n",
       "      <td>1</td>\n",
       "      <td>2</td>\n",
       "      <td>2</td>\n",
       "    </tr>\n",
       "  </tbody>\n",
       "</table>\n",
       "</div>"
      ],
      "text/plain": [
       "    Age  Education  Occupation  Relationship  Country  Income\n",
       "0     1          1           1             1        1       1\n",
       "1     2          1           2             2        1       1\n",
       "2     1          2           3             1        1       1\n",
       "3     1          3           4             3        1       1\n",
       "4     3          1           5             2        1       1\n",
       "5     2          3           6             1        1       1\n",
       "6     2          4           4             1        1       1\n",
       "7     4          3           1             3        1       1\n",
       "8     1          5           2             4        1       1\n",
       "9     4          1           3             2        1       1\n",
       "10    1          3           5             3        1       1\n",
       "11    1          6           7             1        1       1\n",
       "12    1          3           3             1        2       2"
      ]
     },
     "execution_count": 30,
     "metadata": {},
     "output_type": "execute_result"
    }
   ],
   "source": [
    "import category_encoders as ce\n",
    "se = ce.OrdinalEncoder(handle_unknown='impute')\n",
    "X = se.fit_transform(X)\n",
    "X"
   ]
  },
  {
   "cell_type": "code",
   "execution_count": 31,
   "id": "9a908557-e32d-47f0-a354-fb038bb69aef",
   "metadata": {},
   "outputs": [
    {
     "data": {
      "text/html": [
       "\n",
       "<div id=\"altair-viz-1b184dcbac054ea08249b945647f9ebc\"></div>\n",
       "<script type=\"text/javascript\">\n",
       "  (function(spec, embedOpt){\n",
       "    let outputDiv = document.currentScript.previousElementSibling;\n",
       "    if (outputDiv.id !== \"altair-viz-1b184dcbac054ea08249b945647f9ebc\") {\n",
       "      outputDiv = document.getElementById(\"altair-viz-1b184dcbac054ea08249b945647f9ebc\");\n",
       "    }\n",
       "    const paths = {\n",
       "      \"vega\": \"https://cdn.jsdelivr.net/npm//vega@5?noext\",\n",
       "      \"vega-lib\": \"https://cdn.jsdelivr.net/npm//vega-lib?noext\",\n",
       "      \"vega-lite\": \"https://cdn.jsdelivr.net/npm//vega-lite@4.8.1?noext\",\n",
       "      \"vega-embed\": \"https://cdn.jsdelivr.net/npm//vega-embed@6?noext\",\n",
       "    };\n",
       "\n",
       "    function loadScript(lib) {\n",
       "      return new Promise(function(resolve, reject) {\n",
       "        var s = document.createElement('script');\n",
       "        s.src = paths[lib];\n",
       "        s.async = true;\n",
       "        s.onload = () => resolve(paths[lib]);\n",
       "        s.onerror = () => reject(`Error loading script: ${paths[lib]}`);\n",
       "        document.getElementsByTagName(\"head\")[0].appendChild(s);\n",
       "      });\n",
       "    }\n",
       "\n",
       "    function showError(err) {\n",
       "      outputDiv.innerHTML = `<div class=\"error\" style=\"color:red;\">${err}</div>`;\n",
       "      throw err;\n",
       "    }\n",
       "\n",
       "    function displayChart(vegaEmbed) {\n",
       "      vegaEmbed(outputDiv, spec, embedOpt)\n",
       "        .catch(err => showError(`Javascript Error: ${err.message}<br>This usually means there's a typo in your chart specification. See the javascript console for the full traceback.`));\n",
       "    }\n",
       "\n",
       "    if(typeof define === \"function\" && define.amd) {\n",
       "      requirejs.config({paths});\n",
       "      require([\"vega-embed\"], displayChart, err => showError(`Error loading script: ${err.message}`));\n",
       "    } else if (typeof vegaEmbed === \"function\") {\n",
       "      displayChart(vegaEmbed);\n",
       "    } else {\n",
       "      loadScript(\"vega\")\n",
       "        .then(() => loadScript(\"vega-lite\"))\n",
       "        .then(() => loadScript(\"vega-embed\"))\n",
       "        .catch(showError)\n",
       "        .then(() => displayChart(vegaEmbed));\n",
       "    }\n",
       "  })({\"config\": {\"view\": {\"continuousWidth\": 400, \"continuousHeight\": 300}}, \"repeat\": {\"column\": [\"Age\", \"Education\", \"Occupation\", \"Relationship\", \"Country\", \"Income\"], \"row\": [\"Age\", \"Education\", \"Occupation\", \"Relationship\", \"Country\", \"Income\"]}, \"spec\": {\"data\": {\"name\": \"data-5089bc4834735a9be3f581f058cee111\"}, \"mark\": \"circle\", \"encoding\": {\"color\": {\"type\": \"nominal\", \"field\": \"Sex\"}, \"x\": {\"type\": \"quantitative\", \"field\": {\"repeat\": \"column\"}}, \"y\": {\"type\": \"quantitative\", \"field\": {\"repeat\": \"row\"}}}, \"height\": 200, \"width\": 200}, \"$schema\": \"https://vega.github.io/schema/vega-lite/v4.8.1.json\", \"datasets\": {\"data-5089bc4834735a9be3f581f058cee111\": [{\"Age\": 1, \"Education\": 1, \"Occupation\": 1, \"Relationship\": 1, \"Country\": 1, \"Income\": 1, \"Sex\": \"Male\"}, {\"Age\": 2, \"Education\": 1, \"Occupation\": 2, \"Relationship\": 2, \"Country\": 1, \"Income\": 1, \"Sex\": \"Female\"}, {\"Age\": 1, \"Education\": 2, \"Occupation\": 3, \"Relationship\": 1, \"Country\": 1, \"Income\": 1, \"Sex\": \"Male\"}, {\"Age\": 1, \"Education\": 3, \"Occupation\": 4, \"Relationship\": 3, \"Country\": 1, \"Income\": 1, \"Sex\": \"Female\"}, {\"Age\": 3, \"Education\": 1, \"Occupation\": 5, \"Relationship\": 2, \"Country\": 1, \"Income\": 1, \"Sex\": \"Female\"}, {\"Age\": 2, \"Education\": 3, \"Occupation\": 6, \"Relationship\": 1, \"Country\": 1, \"Income\": 1, \"Sex\": \"Male\"}, {\"Age\": 2, \"Education\": 4, \"Occupation\": 4, \"Relationship\": 1, \"Country\": 1, \"Income\": 1, \"Sex\": \"Male\"}, {\"Age\": 4, \"Education\": 3, \"Occupation\": 1, \"Relationship\": 3, \"Country\": 1, \"Income\": 1, \"Sex\": \"Male\"}, {\"Age\": 1, \"Education\": 5, \"Occupation\": 2, \"Relationship\": 4, \"Country\": 1, \"Income\": 1, \"Sex\": \"Male\"}, {\"Age\": 4, \"Education\": 1, \"Occupation\": 3, \"Relationship\": 2, \"Country\": 1, \"Income\": 1, \"Sex\": \"Male\"}, {\"Age\": 1, \"Education\": 3, \"Occupation\": 5, \"Relationship\": 3, \"Country\": 1, \"Income\": 1, \"Sex\": \"Female\"}, {\"Age\": 1, \"Education\": 6, \"Occupation\": 7, \"Relationship\": 1, \"Country\": 1, \"Income\": 1, \"Sex\": \"Male\"}, {\"Age\": 1, \"Education\": 3, \"Occupation\": 3, \"Relationship\": 1, \"Country\": 2, \"Income\": 2, \"Sex\": \"Male\"}]}}, {\"mode\": \"vega-lite\"});\n",
       "</script>"
      ],
      "text/plain": [
       "alt.RepeatChart(...)"
      ]
     },
     "execution_count": 31,
     "metadata": {},
     "output_type": "execute_result"
    }
   ],
   "source": [
    "import altair as alt\n",
    "\n",
    "pdf = pd.concat([X, y], axis=1)\n",
    "\n",
    "alt.Chart(pdf).mark_circle().encode(\n",
    "    alt.X(alt.repeat(\"column\"), type='quantitative'),\n",
    "    alt.Y(alt.repeat(\"row\"), type='quantitative'),\n",
    "    color=f'{target}:N'\n",
    ").properties(width=200, height=200).repeat(row=X.columns.tolist(), column=X.columns.tolist())"
   ]
  },
  {
   "cell_type": "code",
   "execution_count": 32,
   "id": "d3b74440-6bea-4ef3-9116-63fe71721924",
   "metadata": {},
   "outputs": [
    {
     "data": {
      "text/plain": [
       "0.3068719804286957"
      ]
     },
     "execution_count": 32,
     "metadata": {},
     "output_type": "execute_result"
    }
   ],
   "source": [
    "# One of non-linear embedding in sklearn\n",
    "from sklearn.manifold import TSNE\n",
    "\n",
    "tsne = TSNE(n_components=2, random_state=0)\n",
    "_X = tsne.fit_transform(X)\n",
    "tsne.kl_divergence_"
   ]
  },
  {
   "cell_type": "code",
   "execution_count": 33,
   "id": "6ccf4ce4-23ea-4dcd-895e-910bc114f785",
   "metadata": {},
   "outputs": [
    {
     "data": {
      "text/html": [
       "\n",
       "<div id=\"altair-viz-1c1cf5bb58e44bdc9f039565b99922a5\"></div>\n",
       "<script type=\"text/javascript\">\n",
       "  (function(spec, embedOpt){\n",
       "    let outputDiv = document.currentScript.previousElementSibling;\n",
       "    if (outputDiv.id !== \"altair-viz-1c1cf5bb58e44bdc9f039565b99922a5\") {\n",
       "      outputDiv = document.getElementById(\"altair-viz-1c1cf5bb58e44bdc9f039565b99922a5\");\n",
       "    }\n",
       "    const paths = {\n",
       "      \"vega\": \"https://cdn.jsdelivr.net/npm//vega@5?noext\",\n",
       "      \"vega-lib\": \"https://cdn.jsdelivr.net/npm//vega-lib?noext\",\n",
       "      \"vega-lite\": \"https://cdn.jsdelivr.net/npm//vega-lite@4.8.1?noext\",\n",
       "      \"vega-embed\": \"https://cdn.jsdelivr.net/npm//vega-embed@6?noext\",\n",
       "    };\n",
       "\n",
       "    function loadScript(lib) {\n",
       "      return new Promise(function(resolve, reject) {\n",
       "        var s = document.createElement('script');\n",
       "        s.src = paths[lib];\n",
       "        s.async = true;\n",
       "        s.onload = () => resolve(paths[lib]);\n",
       "        s.onerror = () => reject(`Error loading script: ${paths[lib]}`);\n",
       "        document.getElementsByTagName(\"head\")[0].appendChild(s);\n",
       "      });\n",
       "    }\n",
       "\n",
       "    function showError(err) {\n",
       "      outputDiv.innerHTML = `<div class=\"error\" style=\"color:red;\">${err}</div>`;\n",
       "      throw err;\n",
       "    }\n",
       "\n",
       "    function displayChart(vegaEmbed) {\n",
       "      vegaEmbed(outputDiv, spec, embedOpt)\n",
       "        .catch(err => showError(`Javascript Error: ${err.message}<br>This usually means there's a typo in your chart specification. See the javascript console for the full traceback.`));\n",
       "    }\n",
       "\n",
       "    if(typeof define === \"function\" && define.amd) {\n",
       "      requirejs.config({paths});\n",
       "      require([\"vega-embed\"], displayChart, err => showError(`Error loading script: ${err.message}`));\n",
       "    } else if (typeof vegaEmbed === \"function\") {\n",
       "      displayChart(vegaEmbed);\n",
       "    } else {\n",
       "      loadScript(\"vega\")\n",
       "        .then(() => loadScript(\"vega-lite\"))\n",
       "        .then(() => loadScript(\"vega-embed\"))\n",
       "        .catch(showError)\n",
       "        .then(() => displayChart(vegaEmbed));\n",
       "    }\n",
       "  })({\"config\": {\"view\": {\"continuousWidth\": 400, \"continuousHeight\": 300}}, \"data\": {\"name\": \"data-aefea660861a854f4b216f4a5b3ba81a\"}, \"mark\": \"point\", \"encoding\": {\"color\": {\"type\": \"nominal\", \"field\": \"Sex\"}, \"x\": {\"type\": \"quantitative\", \"field\": \"tSNE-X\"}, \"y\": {\"type\": \"quantitative\", \"field\": \"tSNE-Y\"}}, \"height\": 400, \"selection\": {\"selector001\": {\"type\": \"interval\", \"bind\": \"scales\", \"encodings\": [\"x\", \"y\"]}}, \"width\": 600, \"$schema\": \"https://vega.github.io/schema/vega-lite/v4.8.1.json\", \"datasets\": {\"data-aefea660861a854f4b216f4a5b3ba81a\": [{\"tSNE-X\": -28.37015724182129, \"tSNE-Y\": 75.71671295166016, \"Sex\": \"Male\"}, {\"tSNE-X\": 140.52513122558594, \"tSNE-Y\": 125.03842163085938, \"Sex\": \"Female\"}, {\"tSNE-X\": -15.713380813598633, \"tSNE-Y\": -6.499067783355713, \"Sex\": \"Male\"}, {\"tSNE-X\": -34.62474060058594, \"tSNE-Y\": 168.4297637939453, \"Sex\": \"Female\"}, {\"tSNE-X\": 66.22930908203125, \"tSNE-Y\": 7.804510593414307, \"Sex\": \"Female\"}, {\"tSNE-X\": 54.002044677734375, \"tSNE-Y\": 90.61491394042969, \"Sex\": \"Male\"}, {\"tSNE-X\": -115.58010864257812, \"tSNE-Y\": 108.73042297363281, \"Sex\": \"Male\"}, {\"tSNE-X\": 156.04005432128906, \"tSNE-Y\": 31.69039535522461, \"Sex\": \"Male\"}, {\"tSNE-X\": 31.304780960083008, \"tSNE-Y\": -90.66338348388672, \"Sex\": \"Male\"}, {\"tSNE-X\": 125.52310180664062, \"tSNE-Y\": -64.16011047363281, \"Sex\": \"Male\"}, {\"tSNE-X\": -110.4810791015625, \"tSNE-Y\": 11.011039733886719, \"Sex\": \"Female\"}, {\"tSNE-X\": 58.766029357910156, \"tSNE-Y\": 183.6070556640625, \"Sex\": \"Male\"}, {\"tSNE-X\": -69.45768737792969, \"tSNE-Y\": -81.48936462402344, \"Sex\": \"Male\"}]}}, {\"mode\": \"vega-lite\"});\n",
       "</script>"
      ],
      "text/plain": [
       "alt.Chart(...)"
      ]
     },
     "execution_count": 33,
     "metadata": {},
     "output_type": "execute_result"
    }
   ],
   "source": [
    "import altair as alt\n",
    "\n",
    "_X = pd.DataFrame({'tSNE-X': _X[:, 0], 'tSNE-Y': _X[:, 1], target: y})\n",
    "alt.Chart(_X).mark_point().encode(x='tSNE-X', y='tSNE-Y', color=f'{target}:N').properties(width=600, height=400).interactive()"
   ]
  },
  {
   "cell_type": "code",
   "execution_count": null,
   "id": "0bcf1338-6479-4fdf-b659-76b3cf8d81f9",
   "metadata": {
    "tags": []
   },
   "outputs": [],
   "source": [
    "from sklearn.ensemble import RandomForestClassifier\n",
    "from boruta import BorutaPy\n",
    "\n",
    "rf = RandomForestClassifier(n_jobs=-1, max_depth=5)\n",
    "rf.fit(X, y)\n",
    "print('SCORE with ALL Features: %1.2f\\n' % rf.score(X, y))\n",
    "\n",
    "rf = RandomForestClassifier(n_jobs=-1, max_depth=5)\n",
    "fs = BorutaPy(rf, n_estimators='auto', random_state=0)\n",
    "fs.fit(X.values, y.values)\n",
    "\n",
    "selected = fs.support_\n",
    "print('Selected Features: %s' % ','.join(X.columns[selected]))\n",
    "\n",
    "X_selected = X[X.columns[selected]]\n",
    "rf = RandomForestClassifier(n_jobs=-1, max_depth=5)\n",
    "rf.fit(X_selected, y)\n",
    "print('SCORE with selected Features: %1.2f' % rf.score(X_selected, y))"
   ]
  },
  {
   "cell_type": "code",
   "execution_count": null,
   "id": "385d6998-8014-44eb-805e-97a23971d1a6",
   "metadata": {},
   "outputs": [],
   "source": []
  }
 ],
 "metadata": {
  "kernelspec": {
   "display_name": "Python 3 (ipykernel)",
   "language": "python",
   "name": "python3"
  },
  "language_info": {
   "codemirror_mode": {
    "name": "ipython",
    "version": 3
   },
   "file_extension": ".py",
   "mimetype": "text/x-python",
   "name": "python",
   "nbconvert_exporter": "python",
   "pygments_lexer": "ipython3",
   "version": "3.7.11"
  }
 },
 "nbformat": 4,
 "nbformat_minor": 5
}
