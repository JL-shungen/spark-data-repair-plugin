{
 "cells": [
  {
   "cell_type": "code",
   "execution_count": 1,
   "id": "465c5fb0-4c75-4a6f-bcc5-5850a2f43ff1",
   "metadata": {},
   "outputs": [],
   "source": [
    "package_jar = '../target/spark-data-repair-plugin_2.12_spark3.1_0.1.0-EXPERIMENTAL-with-dependencies.jar'"
   ]
  },
  {
   "cell_type": "code",
   "execution_count": 2,
   "id": "47aa7788-c12a-471e-b42d-ba594b18fe12",
   "metadata": {},
   "outputs": [],
   "source": [
    "import numpy as np\n",
    "import pandas as pd\n",
    "from pyspark.sql import *\n",
    "from pyspark.sql.types import *\n",
    "from pyspark.sql import functions as f\n",
    "\n",
    "spark = SparkSession.builder \\\n",
    "    .config('spark.jars', package_jar) \\\n",
    "    .config('spark.deriver.memory', '8g') \\\n",
    "    .enableHiveSupport() \\\n",
    "    .getOrCreate()\n",
    "\n",
    "# Suppresses user warinig messages in Python\n",
    "import warnings\n",
    "warnings.simplefilter(\"ignore\", UserWarning)\n",
    "\n",
    "# Suppresses `WARN` messages in JVM\n",
    "spark.sparkContext.setLogLevel(\"ERROR\")"
   ]
  },
  {
   "cell_type": "code",
   "execution_count": 3,
   "id": "9065ccfd-2771-4013-9c50-23d058c3515c",
   "metadata": {},
   "outputs": [
    {
     "data": {
      "text/plain": [
       "'0.1.0-spark3.1-EXPERIMENTAL'"
      ]
     },
     "execution_count": 3,
     "metadata": {},
     "output_type": "execute_result"
    }
   ],
   "source": [
    "from repair.api import Scavenger\n",
    "Scavenger().version()"
   ]
  },
  {
   "cell_type": "code",
   "execution_count": 4,
   "id": "3d19cdb0-a569-4e8f-94d8-4dff2cfcfa4b",
   "metadata": {},
   "outputs": [
    {
     "name": "stdout",
     "output_type": "stream",
     "text": [
      "root\n",
      " |-- tid: string (nullable = true)\n",
      " |-- Age: string (nullable = true)\n",
      " |-- Education: string (nullable = true)\n",
      " |-- Occupation: string (nullable = true)\n",
      " |-- Relationship: string (nullable = true)\n",
      " |-- Sex: string (nullable = true)\n",
      " |-- Country: string (nullable = true)\n",
      " |-- Income: string (nullable = true)\n",
      "\n"
     ]
    }
   ],
   "source": [
    "spark.read.option(\"header\", True).csv(\"../testdata/adult.csv\").createOrReplaceTempView(\"adult\")\n",
    "spark.table('adult').printSchema()"
   ]
  },
  {
   "cell_type": "code",
   "execution_count": 6,
   "id": "2933e731-3528-4a6d-baf9-816202239d6b",
   "metadata": {},
   "outputs": [
    {
     "data": {
      "text/html": [
       "\n",
       "<div id=\"altair-viz-9ec06ffff9d94a4ba43b0de926f250ca\"></div>\n",
       "<script type=\"text/javascript\">\n",
       "  (function(spec, embedOpt){\n",
       "    let outputDiv = document.currentScript.previousElementSibling;\n",
       "    if (outputDiv.id !== \"altair-viz-9ec06ffff9d94a4ba43b0de926f250ca\") {\n",
       "      outputDiv = document.getElementById(\"altair-viz-9ec06ffff9d94a4ba43b0de926f250ca\");\n",
       "    }\n",
       "    const paths = {\n",
       "      \"vega\": \"https://cdn.jsdelivr.net/npm//vega@5?noext\",\n",
       "      \"vega-lib\": \"https://cdn.jsdelivr.net/npm//vega-lib?noext\",\n",
       "      \"vega-lite\": \"https://cdn.jsdelivr.net/npm//vega-lite@4.8.1?noext\",\n",
       "      \"vega-embed\": \"https://cdn.jsdelivr.net/npm//vega-embed@6?noext\",\n",
       "    };\n",
       "\n",
       "    function loadScript(lib) {\n",
       "      return new Promise(function(resolve, reject) {\n",
       "        var s = document.createElement('script');\n",
       "        s.src = paths[lib];\n",
       "        s.async = true;\n",
       "        s.onload = () => resolve(paths[lib]);\n",
       "        s.onerror = () => reject(`Error loading script: ${paths[lib]}`);\n",
       "        document.getElementsByTagName(\"head\")[0].appendChild(s);\n",
       "      });\n",
       "    }\n",
       "\n",
       "    function showError(err) {\n",
       "      outputDiv.innerHTML = `<div class=\"error\" style=\"color:red;\">${err}</div>`;\n",
       "      throw err;\n",
       "    }\n",
       "\n",
       "    function displayChart(vegaEmbed) {\n",
       "      vegaEmbed(outputDiv, spec, embedOpt)\n",
       "        .catch(err => showError(`Javascript Error: ${err.message}<br>This usually means there's a typo in your chart specification. See the javascript console for the full traceback.`));\n",
       "    }\n",
       "\n",
       "    if(typeof define === \"function\" && define.amd) {\n",
       "      requirejs.config({paths});\n",
       "      require([\"vega-embed\"], displayChart, err => showError(`Error loading script: ${err.message}`));\n",
       "    } else if (typeof vegaEmbed === \"function\") {\n",
       "      displayChart(vegaEmbed);\n",
       "    } else {\n",
       "      loadScript(\"vega\")\n",
       "        .then(() => loadScript(\"vega-lite\"))\n",
       "        .then(() => loadScript(\"vega-embed\"))\n",
       "        .catch(showError)\n",
       "        .then(() => displayChart(vegaEmbed));\n",
       "    }\n",
       "  })({\"config\": {\"view\": {\"continuousWidth\": 400, \"continuousHeight\": 300}}, \"hconcat\": [{\"mark\": \"bar\", \"encoding\": {\"x\": {\"type\": \"nominal\", \"field\": \"Age\"}, \"y\": {\"type\": \"quantitative\", \"aggregate\": \"count\", \"axis\": {\"title\": \"freq\"}}}, \"height\": 300, \"width\": 300}, {\"mark\": \"bar\", \"encoding\": {\"x\": {\"type\": \"nominal\", \"field\": \"Education\"}, \"y\": {\"type\": \"quantitative\", \"aggregate\": \"count\", \"axis\": {\"title\": \"freq\"}}}, \"height\": 300, \"width\": 300}, {\"mark\": \"bar\", \"encoding\": {\"x\": {\"type\": \"nominal\", \"field\": \"Occupation\"}, \"y\": {\"type\": \"quantitative\", \"aggregate\": \"count\", \"axis\": {\"title\": \"freq\"}}}, \"height\": 300, \"width\": 300}, {\"mark\": \"bar\", \"encoding\": {\"x\": {\"type\": \"nominal\", \"field\": \"Relationship\"}, \"y\": {\"type\": \"quantitative\", \"aggregate\": \"count\", \"axis\": {\"title\": \"freq\"}}}, \"height\": 300, \"width\": 300}, {\"mark\": \"bar\", \"encoding\": {\"x\": {\"type\": \"nominal\", \"field\": \"Sex\"}, \"y\": {\"type\": \"quantitative\", \"aggregate\": \"count\", \"axis\": {\"title\": \"freq\"}}}, \"height\": 300, \"width\": 300}, {\"mark\": \"bar\", \"encoding\": {\"x\": {\"type\": \"nominal\", \"field\": \"Country\"}, \"y\": {\"type\": \"quantitative\", \"aggregate\": \"count\", \"axis\": {\"title\": \"freq\"}}}, \"height\": 300, \"width\": 300}, {\"mark\": \"bar\", \"encoding\": {\"x\": {\"type\": \"nominal\", \"field\": \"Income\"}, \"y\": {\"type\": \"quantitative\", \"aggregate\": \"count\", \"axis\": {\"title\": \"freq\"}}}, \"height\": 300, \"width\": 300}], \"data\": {\"name\": \"data-ea17327783dababcd072c6abd00a2be3\"}, \"$schema\": \"https://vega.github.io/schema/vega-lite/v4.8.1.json\", \"datasets\": {\"data-ea17327783dababcd072c6abd00a2be3\": [{\"tid\": \"0\", \"Age\": \"31-50\", \"Education\": \"Some-college\", \"Occupation\": \"Craft-repair\", \"Relationship\": \"Husband\", \"Sex\": \"Male\", \"Country\": \"United-States\", \"Income\": \"LessThan50K\"}, {\"tid\": \"1\", \"Age\": \">50\", \"Education\": \"Some-college\", \"Occupation\": \"Exec-managerial\", \"Relationship\": \"Own-child\", \"Sex\": \"Female\", \"Country\": \"United-States\", \"Income\": \"LessThan50K\"}, {\"tid\": \"2\", \"Age\": \"31-50\", \"Education\": \"Bachelors\", \"Occupation\": \"Sales\", \"Relationship\": \"Husband\", \"Sex\": \"Male\", \"Country\": \"United-States\", \"Income\": \"LessThan50K\"}, {\"tid\": \"3\", \"Age\": \"22-30\", \"Education\": \"HS-grad\", \"Occupation\": \"Craft-repair\", \"Relationship\": \"Own-child\", \"Sex\": null, \"Country\": \"United-States\", \"Income\": \"LessThan50K\"}, {\"tid\": \"4\", \"Age\": \"22-30\", \"Education\": \"HS-grad\", \"Occupation\": \"Farming-fishing\", \"Relationship\": \"Husband\", \"Sex\": \"Female\", \"Country\": \"United-States\", \"Income\": \"LessThan50K\"}, {\"tid\": \"5\", \"Age\": null, \"Education\": \"Some-college\", \"Occupation\": \"Craft-repair\", \"Relationship\": \"Husband\", \"Sex\": \"Male\", \"Country\": \"United-States\", \"Income\": null}, {\"tid\": \"6\", \"Age\": \"31-50\", \"Education\": \"HS-grad\", \"Occupation\": \"Prof-specialty\", \"Relationship\": \"Not-in-family\", \"Sex\": \"Female\", \"Country\": \"United-States\", \"Income\": \"LessThan50K\"}, {\"tid\": \"7\", \"Age\": \"31-50\", \"Education\": \"Prof-school\", \"Occupation\": \"Prof-specialty\", \"Relationship\": \"Husband\", \"Sex\": null, \"Country\": \"India\", \"Income\": \"MoreThan50K\"}, {\"tid\": \"8\", \"Age\": \"18-21\", \"Education\": \"Some-college\", \"Occupation\": \"Adm-clerical\", \"Relationship\": \"Own-child\", \"Sex\": \"Female\", \"Country\": \"United-States\", \"Income\": \"LessThan50K\"}, {\"tid\": \"9\", \"Age\": \">50\", \"Education\": \"HS-grad\", \"Occupation\": \"Farming-fishing\", \"Relationship\": \"Husband\", \"Sex\": \"Male\", \"Country\": \"United-States\", \"Income\": \"LessThan50K\"}, {\"tid\": \"10\", \"Age\": \">50\", \"Education\": \"Assoc-voc\", \"Occupation\": \"Prof-specialty\", \"Relationship\": \"Husband\", \"Sex\": \"Male\", \"Country\": \"United-States\", \"Income\": \"LessThan50K\"}, {\"tid\": \"11\", \"Age\": \">50\", \"Education\": \"HS-grad\", \"Occupation\": \"Sales\", \"Relationship\": \"Husband\", \"Sex\": \"Female\", \"Country\": \"United-States\", \"Income\": \"MoreThan50K\"}, {\"tid\": \"12\", \"Age\": null, \"Education\": \"Bachelors\", \"Occupation\": \"Exec-managerial\", \"Relationship\": \"Husband\", \"Sex\": null, \"Country\": \"United-States\", \"Income\": \"MoreThan50K\"}, {\"tid\": \"13\", \"Age\": \"22-30\", \"Education\": \"HS-grad\", \"Occupation\": \"Craft-repair\", \"Relationship\": \"Not-in-family\", \"Sex\": \"Male\", \"Country\": \"United-States\", \"Income\": \"LessThan50K\"}, {\"tid\": \"14\", \"Age\": \"31-50\", \"Education\": \"Assoc-acdm\", \"Occupation\": \"Exec-managerial\", \"Relationship\": \"Unmarried\", \"Sex\": \"Male\", \"Country\": \"United-States\", \"Income\": \"LessThan50K\"}, {\"tid\": \"15\", \"Age\": \"22-30\", \"Education\": \"Some-college\", \"Occupation\": \"Sales\", \"Relationship\": \"Own-child\", \"Sex\": \"Male\", \"Country\": \"United-States\", \"Income\": \"LessThan50K\"}, {\"tid\": \"16\", \"Age\": \">50\", \"Education\": \"Some-college\", \"Occupation\": \"Exec-managerial\", \"Relationship\": \"Unmarried\", \"Sex\": \"Female\", \"Country\": \"United-States\", \"Income\": null}, {\"tid\": \"17\", \"Age\": \"31-50\", \"Education\": \"HS-grad\", \"Occupation\": \"Adm-clerical\", \"Relationship\": \"Not-in-family\", \"Sex\": \"Female\", \"Country\": \"United-States\", \"Income\": \"LessThan50K\"}, {\"tid\": \"18\", \"Age\": \"31-50\", \"Education\": \"10th\", \"Occupation\": \"Handlers-cleaners\", \"Relationship\": \"Husband\", \"Sex\": \"Male\", \"Country\": \"United-States\", \"Income\": \"LessThan50K\"}, {\"tid\": \"19\", \"Age\": \"31-50\", \"Education\": \"HS-grad\", \"Occupation\": \"Sales\", \"Relationship\": \"Husband\", \"Sex\": \"Male\", \"Country\": \"Iran\", \"Income\": \"MoreThan50K\"}]}}, {\"mode\": \"vega-lite\"});\n",
       "</script>"
      ],
      "text/plain": [
       "alt.HConcatChart(...)"
      ]
     },
     "execution_count": 6,
     "metadata": {},
     "output_type": "execute_result"
    }
   ],
   "source": [
    "import altair as alt\n",
    "\n",
    "charts = []\n",
    "pdf = spark.table('adult').toPandas()\n",
    "cols = ['Age', 'Education', 'Occupation', 'Relationship', 'Sex', 'Country', 'Income']\n",
    "\n",
    "for c in cols:\n",
    "    charts.append(alt.Chart(pdf).mark_bar().encode(x=alt.X(c), y=alt.Y('count()', axis=alt.Axis(title='freq'))).properties(width=300, height=300))\n",
    "\n",
    "alt.hconcat(*charts)"
   ]
  },
  {
   "cell_type": "code",
   "execution_count": 9,
   "id": "fafe6344-04ff-4acf-bd26-59555e0a6c0d",
   "metadata": {},
   "outputs": [],
   "source": [
    "from repair.detectors import NullErrorDetector, ConstraintErrorDetector\n",
    "error_detectors = [ \n",
    "    ConstraintErrorDetector(constraint_path=\"../testdata/adult_constraints.txt\"),\n",
    "    NullErrorDetector()\n",
    "]\n",
    "\n",
    "from repair.model import RepairModel\n",
    "model = RepairModel().setTableName('adult').setRowId('tid').setDiscreteThreshold(100) \n",
    "noisy_cells_df, noisy_columns = model.setErrorDetectors(error_detectors)._detect_errors('adult', 8, 20)"
   ]
  },
  {
   "cell_type": "code",
   "execution_count": 11,
   "id": "5de8f557-56f5-4647-98aa-9d65d91b7124",
   "metadata": {},
   "outputs": [
    {
     "data": {
      "text/html": [
       "\n",
       "<div id=\"altair-viz-59d452c0fc0649dc9b1197ccbb0159d8\"></div>\n",
       "<script type=\"text/javascript\">\n",
       "  (function(spec, embedOpt){\n",
       "    let outputDiv = document.currentScript.previousElementSibling;\n",
       "    if (outputDiv.id !== \"altair-viz-59d452c0fc0649dc9b1197ccbb0159d8\") {\n",
       "      outputDiv = document.getElementById(\"altair-viz-59d452c0fc0649dc9b1197ccbb0159d8\");\n",
       "    }\n",
       "    const paths = {\n",
       "      \"vega\": \"https://cdn.jsdelivr.net/npm//vega@5?noext\",\n",
       "      \"vega-lib\": \"https://cdn.jsdelivr.net/npm//vega-lib?noext\",\n",
       "      \"vega-lite\": \"https://cdn.jsdelivr.net/npm//vega-lite@4.8.1?noext\",\n",
       "      \"vega-embed\": \"https://cdn.jsdelivr.net/npm//vega-embed@6?noext\",\n",
       "    };\n",
       "\n",
       "    function loadScript(lib) {\n",
       "      return new Promise(function(resolve, reject) {\n",
       "        var s = document.createElement('script');\n",
       "        s.src = paths[lib];\n",
       "        s.async = true;\n",
       "        s.onload = () => resolve(paths[lib]);\n",
       "        s.onerror = () => reject(`Error loading script: ${paths[lib]}`);\n",
       "        document.getElementsByTagName(\"head\")[0].appendChild(s);\n",
       "      });\n",
       "    }\n",
       "\n",
       "    function showError(err) {\n",
       "      outputDiv.innerHTML = `<div class=\"error\" style=\"color:red;\">${err}</div>`;\n",
       "      throw err;\n",
       "    }\n",
       "\n",
       "    function displayChart(vegaEmbed) {\n",
       "      vegaEmbed(outputDiv, spec, embedOpt)\n",
       "        .catch(err => showError(`Javascript Error: ${err.message}<br>This usually means there's a typo in your chart specification. See the javascript console for the full traceback.`));\n",
       "    }\n",
       "\n",
       "    if(typeof define === \"function\" && define.amd) {\n",
       "      requirejs.config({paths});\n",
       "      require([\"vega-embed\"], displayChart, err => showError(`Error loading script: ${err.message}`));\n",
       "    } else if (typeof vegaEmbed === \"function\") {\n",
       "      displayChart(vegaEmbed);\n",
       "    } else {\n",
       "      loadScript(\"vega\")\n",
       "        .then(() => loadScript(\"vega-lite\"))\n",
       "        .then(() => loadScript(\"vega-embed\"))\n",
       "        .catch(showError)\n",
       "        .then(() => displayChart(vegaEmbed));\n",
       "    }\n",
       "  })({\"config\": {\"view\": {\"continuousWidth\": 400, \"continuousHeight\": 300}}, \"data\": {\"name\": \"data-500b3f534e37d38058d6b8d7ecc26f14\"}, \"mark\": \"bar\", \"encoding\": {\"x\": {\"type\": \"nominal\", \"field\": \"attribute\"}, \"y\": {\"type\": \"quantitative\", \"aggregate\": \"count\", \"axis\": {\"title\": \"freq\"}}}, \"height\": 400, \"width\": 400, \"$schema\": \"https://vega.github.io/schema/vega-lite/v4.8.1.json\", \"datasets\": {\"data-500b3f534e37d38058d6b8d7ecc26f14\": [{\"tid\": \"3\", \"attribute\": \"Sex\", \"current_value\": null}, {\"tid\": \"4\", \"attribute\": \"Relationship\", \"current_value\": \"Husband\"}, {\"tid\": \"4\", \"attribute\": \"Sex\", \"current_value\": \"Female\"}, {\"tid\": \"5\", \"attribute\": \"Age\", \"current_value\": null}, {\"tid\": \"5\", \"attribute\": \"Income\", \"current_value\": null}, {\"tid\": \"7\", \"attribute\": \"Sex\", \"current_value\": null}, {\"tid\": \"11\", \"attribute\": \"Relationship\", \"current_value\": \"Husband\"}, {\"tid\": \"11\", \"attribute\": \"Sex\", \"current_value\": \"Female\"}, {\"tid\": \"12\", \"attribute\": \"Sex\", \"current_value\": null}, {\"tid\": \"12\", \"attribute\": \"Age\", \"current_value\": null}, {\"tid\": \"16\", \"attribute\": \"Income\", \"current_value\": null}]}}, {\"mode\": \"vega-lite\"});\n",
       "</script>"
      ],
      "text/plain": [
       "alt.Chart(...)"
      ]
     },
     "execution_count": 11,
     "metadata": {},
     "output_type": "execute_result"
    }
   ],
   "source": [
    "import altair as alt\n",
    "\n",
    "pdf = noisy_cells_df.toPandas()\n",
    "alt.Chart(pdf).mark_bar().encode(x=alt.X('attribute'), y=alt.Y('count()', axis=alt.Axis(title='freq'))).properties(width=400, height=400)"
   ]
  },
  {
   "cell_type": "code",
   "execution_count": 12,
   "id": "f793a79a-1b7f-49ea-aea8-1ef51c2efe97",
   "metadata": {},
   "outputs": [
    {
     "data": {
      "text/plain": [
       "['Age', 'Education', 'Occupation', 'Relationship', 'Sex', 'Country', 'Income']"
      ]
     },
     "execution_count": 12,
     "metadata": {},
     "output_type": "execute_result"
    }
   ],
   "source": [
    "discretized_table, discretized_columns, distinct_stats = model._discretize_attrs('adult')\n",
    "discretized_columns"
   ]
  },
  {
   "cell_type": "code",
   "execution_count": 14,
   "id": "df771bbe-0139-4ede-84fd-5990be8d0833",
   "metadata": {},
   "outputs": [
    {
     "data": {
      "text/plain": [
       "['Income', 'Age', 'Relationship', 'Sex']"
      ]
     },
     "execution_count": 14,
     "metadata": {},
     "output_type": "execute_result"
    }
   ],
   "source": [
    "target_columns = list(filter(lambda c: c in discretized_columns, noisy_columns))\n",
    "target_columns"
   ]
  },
  {
   "cell_type": "code",
   "execution_count": 15,
   "id": "d389b5bb-41e1-4ad1-ae4c-39548a9e02c3",
   "metadata": {},
   "outputs": [],
   "source": [
    "cell_domain, pairwise_stats = model._analyze_error_cell_domain(noisy_cells_df, discretized_table, [], target_columns, discretized_columns, 20)"
   ]
  },
  {
   "cell_type": "code",
   "execution_count": 16,
   "id": "5d7df73c-0a38-4351-9f8d-7d73cbaa2e89",
   "metadata": {},
   "outputs": [
    {
     "data": {
      "text/html": [
       "\n",
       "<div id=\"altair-viz-a74ad419b3f44688b7fd45d2dc934705\"></div>\n",
       "<script type=\"text/javascript\">\n",
       "  (function(spec, embedOpt){\n",
       "    let outputDiv = document.currentScript.previousElementSibling;\n",
       "    if (outputDiv.id !== \"altair-viz-a74ad419b3f44688b7fd45d2dc934705\") {\n",
       "      outputDiv = document.getElementById(\"altair-viz-a74ad419b3f44688b7fd45d2dc934705\");\n",
       "    }\n",
       "    const paths = {\n",
       "      \"vega\": \"https://cdn.jsdelivr.net/npm//vega@5?noext\",\n",
       "      \"vega-lib\": \"https://cdn.jsdelivr.net/npm//vega-lib?noext\",\n",
       "      \"vega-lite\": \"https://cdn.jsdelivr.net/npm//vega-lite@4.8.1?noext\",\n",
       "      \"vega-embed\": \"https://cdn.jsdelivr.net/npm//vega-embed@6?noext\",\n",
       "    };\n",
       "\n",
       "    function loadScript(lib) {\n",
       "      return new Promise(function(resolve, reject) {\n",
       "        var s = document.createElement('script');\n",
       "        s.src = paths[lib];\n",
       "        s.async = true;\n",
       "        s.onload = () => resolve(paths[lib]);\n",
       "        s.onerror = () => reject(`Error loading script: ${paths[lib]}`);\n",
       "        document.getElementsByTagName(\"head\")[0].appendChild(s);\n",
       "      });\n",
       "    }\n",
       "\n",
       "    function showError(err) {\n",
       "      outputDiv.innerHTML = `<div class=\"error\" style=\"color:red;\">${err}</div>`;\n",
       "      throw err;\n",
       "    }\n",
       "\n",
       "    function displayChart(vegaEmbed) {\n",
       "      vegaEmbed(outputDiv, spec, embedOpt)\n",
       "        .catch(err => showError(`Javascript Error: ${err.message}<br>This usually means there's a typo in your chart specification. See the javascript console for the full traceback.`));\n",
       "    }\n",
       "\n",
       "    if(typeof define === \"function\" && define.amd) {\n",
       "      requirejs.config({paths});\n",
       "      require([\"vega-embed\"], displayChart, err => showError(`Error loading script: ${err.message}`));\n",
       "    } else if (typeof vegaEmbed === \"function\") {\n",
       "      displayChart(vegaEmbed);\n",
       "    } else {\n",
       "      loadScript(\"vega\")\n",
       "        .then(() => loadScript(\"vega-lite\"))\n",
       "        .then(() => loadScript(\"vega-embed\"))\n",
       "        .catch(showError)\n",
       "        .then(() => displayChart(vegaEmbed));\n",
       "    }\n",
       "  })({\"config\": {\"view\": {\"continuousWidth\": 400, \"continuousHeight\": 300}}, \"hconcat\": [{\"data\": {\"name\": \"data-c5a646aa4916d32610a2a980fb0a2699\"}, \"mark\": \"bar\", \"encoding\": {\"x\": {\"type\": \"nominal\", \"field\": \"Relationship\"}, \"y\": {\"type\": \"quantitative\", \"field\": \"cor\"}}, \"height\": 200, \"width\": 200}, {\"data\": {\"name\": \"data-9e00fcb3869142282ac2ef636d96da44\"}, \"mark\": \"bar\", \"encoding\": {\"x\": {\"type\": \"nominal\", \"field\": \"Age\"}, \"y\": {\"type\": \"quantitative\", \"field\": \"cor\"}}, \"height\": 200, \"width\": 200}, {\"data\": {\"name\": \"data-275630e387979e75426e6b8e8b44baaa\"}, \"mark\": \"bar\", \"encoding\": {\"x\": {\"type\": \"nominal\", \"field\": \"Sex\"}, \"y\": {\"type\": \"quantitative\", \"field\": \"cor\"}}, \"height\": 200, \"width\": 200}, {\"data\": {\"name\": \"data-cc1d4a8fd4b261e1b3ef814b876efb18\"}, \"mark\": \"bar\", \"encoding\": {\"x\": {\"type\": \"nominal\", \"field\": \"Income\"}, \"y\": {\"type\": \"quantitative\", \"field\": \"cor\"}}, \"height\": 200, \"width\": 200}], \"$schema\": \"https://vega.github.io/schema/vega-lite/v4.8.1.json\", \"datasets\": {\"data-c5a646aa4916d32610a2a980fb0a2699\": [{\"Relationship\": \"Occupation\", \"cor\": 0.99}, {\"Relationship\": \"Education\", \"cor\": 0.99}, {\"Relationship\": \"Age\", \"cor\": 0.9883774437510817}, {\"Relationship\": \"Income\", \"cor\": 0.987480846798842}, {\"Relationship\": \"Sex\", \"cor\": 0.9863903595255632}, {\"Relationship\": \"Country\", \"cor\": 0.9841127812445913}], \"data-9e00fcb3869142282ac2ef636d96da44\": [{\"Age\": \"Occupation\", \"cor\": 0.9975883405335804}, {\"Age\": \"Education\", \"cor\": 0.9959657842846621}, {\"Age\": \"Relationship\", \"cor\": 0.9937437306193754}, {\"Age\": \"Country\", \"cor\": 0.9899961670110632}, {\"Age\": \"Sex\", \"cor\": 0.9897297734289927}, {\"Age\": \"Income\", \"cor\": 0.989463738941173}], \"data-275630e387979e75426e6b8e8b44baaa\": [{\"Sex\": \"Occupation\", \"cor\": 1.0106522403561498}, {\"Sex\": \"Education\", \"cor\": 1.0106522403561498}, {\"Sex\": \"Income\", \"cor\": 1.0042040244196166}, {\"Sex\": \"Country\", \"cor\": 1.0030195122954086}, {\"Sex\": \"Relationship\", \"cor\": 1.0027402020012157}, {\"Sex\": \"Age\", \"cor\": 0.9986864560714876}], \"data-cc1d4a8fd4b261e1b3ef814b876efb18\": [{\"Income\": \"Occupation\", \"cor\": 1.0039315685693242}, {\"Income\": \"Education\", \"cor\": 1.0039315685693242}, {\"Income\": \"Relationship\", \"cor\": 1.003387595768641}, {\"Income\": \"Sex\", \"cor\": 1.002670443640484}, {\"Income\": \"Country\", \"cor\": 1.000175887452169}, {\"Income\": \"Age\", \"cor\": 0.9966208063167157}]}}, {\"mode\": \"vega-lite\"});\n",
       "</script>"
      ],
      "text/plain": [
       "alt.HConcatChart(...)"
      ]
     },
     "execution_count": 16,
     "metadata": {},
     "output_type": "execute_result"
    }
   ],
   "source": [
    "import altair as alt\n",
    "\n",
    "charts = []\n",
    "\n",
    "for target, cols in pairwise_stats.items():\n",
    "    pdf = pd.DataFrame(cols, columns=[target, 'cor'])\n",
    "    pdf['cor'] = pdf['cor'].astype('float')\n",
    "    charts.append(alt.Chart(pdf).mark_bar().encode(x=alt.X(target), y=alt.Y('cor')).properties(width=200, height=200))\n",
    "    \n",
    "alt.hconcat(*charts)"
   ]
  },
  {
   "cell_type": "code",
   "execution_count": 17,
   "id": "395b91ce-d66f-46e6-95f6-38cca4fecd33",
   "metadata": {},
   "outputs": [],
   "source": [
    "error_cells_df, weak_labeled_cells_df_opt = model._extract_error_cells(noisy_cells_df, cell_domain, 20, 8)"
   ]
  },
  {
   "cell_type": "code",
   "execution_count": 20,
   "id": "580bc847-1638-4cea-b148-1dee41f9fe8c",
   "metadata": {},
   "outputs": [],
   "source": [
    "repair_base_df = model._prepare_repair_base_cells('adult', noisy_cells_df, target_columns, 20, 8)\n",
    "repair_base_df = model._repair_attrs(weak_labeled_cells_df_opt, repair_base_df)"
   ]
  },
  {
   "cell_type": "code",
   "execution_count": 22,
   "id": "327a8e06-2d9e-413b-89e0-a5e83f788142",
   "metadata": {},
   "outputs": [
    {
     "data": {
      "text/html": [
       "\n",
       "<div id=\"altair-viz-2142871aacdc4eefa4b287568f14b910\"></div>\n",
       "<script type=\"text/javascript\">\n",
       "  (function(spec, embedOpt){\n",
       "    let outputDiv = document.currentScript.previousElementSibling;\n",
       "    if (outputDiv.id !== \"altair-viz-2142871aacdc4eefa4b287568f14b910\") {\n",
       "      outputDiv = document.getElementById(\"altair-viz-2142871aacdc4eefa4b287568f14b910\");\n",
       "    }\n",
       "    const paths = {\n",
       "      \"vega\": \"https://cdn.jsdelivr.net/npm//vega@5?noext\",\n",
       "      \"vega-lib\": \"https://cdn.jsdelivr.net/npm//vega-lib?noext\",\n",
       "      \"vega-lite\": \"https://cdn.jsdelivr.net/npm//vega-lite@4.8.1?noext\",\n",
       "      \"vega-embed\": \"https://cdn.jsdelivr.net/npm//vega-embed@6?noext\",\n",
       "    };\n",
       "\n",
       "    function loadScript(lib) {\n",
       "      return new Promise(function(resolve, reject) {\n",
       "        var s = document.createElement('script');\n",
       "        s.src = paths[lib];\n",
       "        s.async = true;\n",
       "        s.onload = () => resolve(paths[lib]);\n",
       "        s.onerror = () => reject(`Error loading script: ${paths[lib]}`);\n",
       "        document.getElementsByTagName(\"head\")[0].appendChild(s);\n",
       "      });\n",
       "    }\n",
       "\n",
       "    function showError(err) {\n",
       "      outputDiv.innerHTML = `<div class=\"error\" style=\"color:red;\">${err}</div>`;\n",
       "      throw err;\n",
       "    }\n",
       "\n",
       "    function displayChart(vegaEmbed) {\n",
       "      vegaEmbed(outputDiv, spec, embedOpt)\n",
       "        .catch(err => showError(`Javascript Error: ${err.message}<br>This usually means there's a typo in your chart specification. See the javascript console for the full traceback.`));\n",
       "    }\n",
       "\n",
       "    if(typeof define === \"function\" && define.amd) {\n",
       "      requirejs.config({paths});\n",
       "      require([\"vega-embed\"], displayChart, err => showError(`Error loading script: ${err.message}`));\n",
       "    } else if (typeof vegaEmbed === \"function\") {\n",
       "      displayChart(vegaEmbed);\n",
       "    } else {\n",
       "      loadScript(\"vega\")\n",
       "        .then(() => loadScript(\"vega-lite\"))\n",
       "        .then(() => loadScript(\"vega-embed\"))\n",
       "        .catch(showError)\n",
       "        .then(() => displayChart(vegaEmbed));\n",
       "    }\n",
       "  })({\"config\": {\"view\": {\"continuousWidth\": 400, \"continuousHeight\": 300}}, \"hconcat\": [{\"mark\": \"bar\", \"encoding\": {\"x\": {\"type\": \"nominal\", \"field\": \"Age\"}, \"y\": {\"type\": \"quantitative\", \"aggregate\": \"count\", \"axis\": {\"title\": \"freq\"}}}, \"height\": 300, \"width\": 300}, {\"mark\": \"bar\", \"encoding\": {\"x\": {\"type\": \"nominal\", \"field\": \"Education\"}, \"y\": {\"type\": \"quantitative\", \"aggregate\": \"count\", \"axis\": {\"title\": \"freq\"}}}, \"height\": 300, \"width\": 300}, {\"mark\": \"bar\", \"encoding\": {\"x\": {\"type\": \"nominal\", \"field\": \"Occupation\"}, \"y\": {\"type\": \"quantitative\", \"aggregate\": \"count\", \"axis\": {\"title\": \"freq\"}}}, \"height\": 300, \"width\": 300}, {\"mark\": \"bar\", \"encoding\": {\"x\": {\"type\": \"nominal\", \"field\": \"Relationship\"}, \"y\": {\"type\": \"quantitative\", \"aggregate\": \"count\", \"axis\": {\"title\": \"freq\"}}}, \"height\": 300, \"width\": 300}, {\"mark\": \"bar\", \"encoding\": {\"x\": {\"type\": \"nominal\", \"field\": \"Sex\"}, \"y\": {\"type\": \"quantitative\", \"aggregate\": \"count\", \"axis\": {\"title\": \"freq\"}}}, \"height\": 300, \"width\": 300}, {\"mark\": \"bar\", \"encoding\": {\"x\": {\"type\": \"nominal\", \"field\": \"Country\"}, \"y\": {\"type\": \"quantitative\", \"aggregate\": \"count\", \"axis\": {\"title\": \"freq\"}}}, \"height\": 300, \"width\": 300}, {\"mark\": \"bar\", \"encoding\": {\"x\": {\"type\": \"nominal\", \"field\": \"Income\"}, \"y\": {\"type\": \"quantitative\", \"aggregate\": \"count\", \"axis\": {\"title\": \"freq\"}}}, \"height\": 300, \"width\": 300}], \"data\": {\"name\": \"data-e23423f6e2ba1c8858cad4f1ced0ad85\"}, \"$schema\": \"https://vega.github.io/schema/vega-lite/v4.8.1.json\", \"datasets\": {\"data-e23423f6e2ba1c8858cad4f1ced0ad85\": [{\"tid\": \"0\", \"Age\": \"31-50\", \"Education\": \"Some-college\", \"Occupation\": \"Craft-repair\", \"Relationship\": \"Husband\", \"Sex\": \"Male\", \"Country\": \"United-States\", \"Income\": \"LessThan50K\"}, {\"tid\": \"1\", \"Age\": \">50\", \"Education\": \"Some-college\", \"Occupation\": \"Exec-managerial\", \"Relationship\": \"Own-child\", \"Sex\": \"Female\", \"Country\": \"United-States\", \"Income\": \"LessThan50K\"}, {\"tid\": \"2\", \"Age\": \"31-50\", \"Education\": \"Bachelors\", \"Occupation\": \"Sales\", \"Relationship\": \"Husband\", \"Sex\": \"Male\", \"Country\": \"United-States\", \"Income\": \"LessThan50K\"}, {\"tid\": \"3\", \"Age\": \"22-30\", \"Education\": \"HS-grad\", \"Occupation\": \"Craft-repair\", \"Relationship\": \"Own-child\", \"Sex\": null, \"Country\": \"United-States\", \"Income\": \"LessThan50K\"}, {\"tid\": \"4\", \"Age\": \"22-30\", \"Education\": \"HS-grad\", \"Occupation\": \"Farming-fishing\", \"Relationship\": null, \"Sex\": null, \"Country\": \"United-States\", \"Income\": \"LessThan50K\"}, {\"tid\": \"5\", \"Age\": null, \"Education\": \"Some-college\", \"Occupation\": \"Craft-repair\", \"Relationship\": \"Husband\", \"Sex\": \"Male\", \"Country\": \"United-States\", \"Income\": null}, {\"tid\": \"6\", \"Age\": \"31-50\", \"Education\": \"HS-grad\", \"Occupation\": \"Prof-specialty\", \"Relationship\": \"Not-in-family\", \"Sex\": \"Female\", \"Country\": \"United-States\", \"Income\": \"LessThan50K\"}, {\"tid\": \"7\", \"Age\": \"31-50\", \"Education\": \"Prof-school\", \"Occupation\": \"Prof-specialty\", \"Relationship\": \"Husband\", \"Sex\": null, \"Country\": \"India\", \"Income\": \"MoreThan50K\"}, {\"tid\": \"8\", \"Age\": \"18-21\", \"Education\": \"Some-college\", \"Occupation\": \"Adm-clerical\", \"Relationship\": \"Own-child\", \"Sex\": \"Female\", \"Country\": \"United-States\", \"Income\": \"LessThan50K\"}, {\"tid\": \"9\", \"Age\": \">50\", \"Education\": \"HS-grad\", \"Occupation\": \"Farming-fishing\", \"Relationship\": \"Husband\", \"Sex\": \"Male\", \"Country\": \"United-States\", \"Income\": \"LessThan50K\"}, {\"tid\": \"10\", \"Age\": \">50\", \"Education\": \"Assoc-voc\", \"Occupation\": \"Prof-specialty\", \"Relationship\": \"Husband\", \"Sex\": \"Male\", \"Country\": \"United-States\", \"Income\": \"LessThan50K\"}, {\"tid\": \"11\", \"Age\": \">50\", \"Education\": \"HS-grad\", \"Occupation\": \"Sales\", \"Relationship\": \"Husband\", \"Sex\": null, \"Country\": \"United-States\", \"Income\": \"MoreThan50K\"}, {\"tid\": \"12\", \"Age\": null, \"Education\": \"Bachelors\", \"Occupation\": \"Exec-managerial\", \"Relationship\": \"Husband\", \"Sex\": null, \"Country\": \"United-States\", \"Income\": \"MoreThan50K\"}, {\"tid\": \"13\", \"Age\": \"22-30\", \"Education\": \"HS-grad\", \"Occupation\": \"Craft-repair\", \"Relationship\": \"Not-in-family\", \"Sex\": \"Male\", \"Country\": \"United-States\", \"Income\": \"LessThan50K\"}, {\"tid\": \"14\", \"Age\": \"31-50\", \"Education\": \"Assoc-acdm\", \"Occupation\": \"Exec-managerial\", \"Relationship\": \"Unmarried\", \"Sex\": \"Male\", \"Country\": \"United-States\", \"Income\": \"LessThan50K\"}, {\"tid\": \"15\", \"Age\": \"22-30\", \"Education\": \"Some-college\", \"Occupation\": \"Sales\", \"Relationship\": \"Own-child\", \"Sex\": \"Male\", \"Country\": \"United-States\", \"Income\": \"LessThan50K\"}, {\"tid\": \"16\", \"Age\": \">50\", \"Education\": \"Some-college\", \"Occupation\": \"Exec-managerial\", \"Relationship\": \"Unmarried\", \"Sex\": \"Female\", \"Country\": \"United-States\", \"Income\": null}, {\"tid\": \"17\", \"Age\": \"31-50\", \"Education\": \"HS-grad\", \"Occupation\": \"Adm-clerical\", \"Relationship\": \"Not-in-family\", \"Sex\": \"Female\", \"Country\": \"United-States\", \"Income\": \"LessThan50K\"}, {\"tid\": \"18\", \"Age\": \"31-50\", \"Education\": \"10th\", \"Occupation\": \"Handlers-cleaners\", \"Relationship\": \"Husband\", \"Sex\": \"Male\", \"Country\": \"United-States\", \"Income\": \"LessThan50K\"}, {\"tid\": \"19\", \"Age\": \"31-50\", \"Education\": \"HS-grad\", \"Occupation\": \"Sales\", \"Relationship\": \"Husband\", \"Sex\": \"Male\", \"Country\": \"Iran\", \"Income\": \"MoreThan50K\"}]}}, {\"mode\": \"vega-lite\"});\n",
       "</script>"
      ],
      "text/plain": [
       "alt.HConcatChart(...)"
      ]
     },
     "execution_count": 22,
     "metadata": {},
     "output_type": "execute_result"
    }
   ],
   "source": [
    "import altair as alt\n",
    "\n",
    "charts = []\n",
    "pdf = repair_base_df.toPandas()\n",
    "cols = ['Age', 'Education', 'Occupation', 'Relationship', 'Sex', 'Country', 'Income']\n",
    "\n",
    "for c in cols:\n",
    "    charts.append(alt.Chart(pdf).mark_bar().encode(x=alt.X(c), y=alt.Y('count()', axis=alt.Axis(title='freq'))).properties(width=300, height=300))\n",
    "\n",
    "alt.hconcat(*charts)"
   ]
  },
  {
   "cell_type": "code",
   "execution_count": 97,
   "id": "1d06f6bb-91a4-4110-a160-cc57bf1f025f",
   "metadata": {},
   "outputs": [],
   "source": [
    "target = 'Sex'"
   ]
  },
  {
   "cell_type": "code",
   "execution_count": 112,
   "id": "3844edd5-402f-4df1-98c1-a5fde9251b63",
   "metadata": {},
   "outputs": [],
   "source": [
    "pdf = repair_base_df.toPandas()\n",
    "# pdf = pdf[pdf[target].notna()]\n",
    "pdf = pdf.dropna()\n",
    "X = pdf.drop(['tid', target], axis=1).reset_index(drop=True)\n",
    "y = pdf[target].reset_index(drop=True)"
   ]
  },
  {
   "cell_type": "code",
   "execution_count": 113,
   "id": "4cfd4276-01bb-42aa-95d1-7d621a97a414",
   "metadata": {},
   "outputs": [],
   "source": [
    "import category_encoders as ce\n",
    "se = ce.OrdinalEncoder(handle_unknown='impute')\n",
    "X = se.fit_transform(X)"
   ]
  },
  {
   "cell_type": "code",
   "execution_count": 114,
   "id": "aadb7d89-8a60-4964-b851-0145582e0108",
   "metadata": {},
   "outputs": [
    {
     "data": {
      "text/html": [
       "<div>\n",
       "<style scoped>\n",
       "    .dataframe tbody tr th:only-of-type {\n",
       "        vertical-align: middle;\n",
       "    }\n",
       "\n",
       "    .dataframe tbody tr th {\n",
       "        vertical-align: top;\n",
       "    }\n",
       "\n",
       "    .dataframe thead th {\n",
       "        text-align: right;\n",
       "    }\n",
       "</style>\n",
       "<table border=\"1\" class=\"dataframe\">\n",
       "  <thead>\n",
       "    <tr style=\"text-align: right;\">\n",
       "      <th></th>\n",
       "      <th>Age</th>\n",
       "      <th>Education</th>\n",
       "      <th>Occupation</th>\n",
       "      <th>Relationship</th>\n",
       "      <th>Country</th>\n",
       "      <th>Income</th>\n",
       "    </tr>\n",
       "  </thead>\n",
       "  <tbody>\n",
       "    <tr>\n",
       "      <th>count</th>\n",
       "      <td>13.000000</td>\n",
       "      <td>13.000000</td>\n",
       "      <td>13.000000</td>\n",
       "      <td>13.000000</td>\n",
       "      <td>13.000000</td>\n",
       "      <td>13.000000</td>\n",
       "    </tr>\n",
       "    <tr>\n",
       "      <th>mean</th>\n",
       "      <td>1.846154</td>\n",
       "      <td>2.769231</td>\n",
       "      <td>3.538462</td>\n",
       "      <td>1.923077</td>\n",
       "      <td>1.076923</td>\n",
       "      <td>1.076923</td>\n",
       "    </tr>\n",
       "    <tr>\n",
       "      <th>std</th>\n",
       "      <td>1.143544</td>\n",
       "      <td>1.589227</td>\n",
       "      <td>1.853617</td>\n",
       "      <td>1.037749</td>\n",
       "      <td>0.277350</td>\n",
       "      <td>0.277350</td>\n",
       "    </tr>\n",
       "    <tr>\n",
       "      <th>min</th>\n",
       "      <td>1.000000</td>\n",
       "      <td>1.000000</td>\n",
       "      <td>1.000000</td>\n",
       "      <td>1.000000</td>\n",
       "      <td>1.000000</td>\n",
       "      <td>1.000000</td>\n",
       "    </tr>\n",
       "    <tr>\n",
       "      <th>25%</th>\n",
       "      <td>1.000000</td>\n",
       "      <td>1.000000</td>\n",
       "      <td>2.000000</td>\n",
       "      <td>1.000000</td>\n",
       "      <td>1.000000</td>\n",
       "      <td>1.000000</td>\n",
       "    </tr>\n",
       "    <tr>\n",
       "      <th>50%</th>\n",
       "      <td>1.000000</td>\n",
       "      <td>3.000000</td>\n",
       "      <td>3.000000</td>\n",
       "      <td>2.000000</td>\n",
       "      <td>1.000000</td>\n",
       "      <td>1.000000</td>\n",
       "    </tr>\n",
       "    <tr>\n",
       "      <th>75%</th>\n",
       "      <td>2.000000</td>\n",
       "      <td>3.000000</td>\n",
       "      <td>5.000000</td>\n",
       "      <td>3.000000</td>\n",
       "      <td>1.000000</td>\n",
       "      <td>1.000000</td>\n",
       "    </tr>\n",
       "    <tr>\n",
       "      <th>max</th>\n",
       "      <td>4.000000</td>\n",
       "      <td>6.000000</td>\n",
       "      <td>7.000000</td>\n",
       "      <td>4.000000</td>\n",
       "      <td>2.000000</td>\n",
       "      <td>2.000000</td>\n",
       "    </tr>\n",
       "  </tbody>\n",
       "</table>\n",
       "</div>"
      ],
      "text/plain": [
       "             Age  Education  Occupation  Relationship    Country     Income\n",
       "count  13.000000  13.000000   13.000000     13.000000  13.000000  13.000000\n",
       "mean    1.846154   2.769231    3.538462      1.923077   1.076923   1.076923\n",
       "std     1.143544   1.589227    1.853617      1.037749   0.277350   0.277350\n",
       "min     1.000000   1.000000    1.000000      1.000000   1.000000   1.000000\n",
       "25%     1.000000   1.000000    2.000000      1.000000   1.000000   1.000000\n",
       "50%     1.000000   3.000000    3.000000      2.000000   1.000000   1.000000\n",
       "75%     2.000000   3.000000    5.000000      3.000000   1.000000   1.000000\n",
       "max     4.000000   6.000000    7.000000      4.000000   2.000000   2.000000"
      ]
     },
     "execution_count": 114,
     "metadata": {},
     "output_type": "execute_result"
    }
   ],
   "source": [
    "X.describe()"
   ]
  },
  {
   "cell_type": "code",
   "execution_count": 115,
   "id": "6491ac43-7f07-4289-9c90-12444bf80469",
   "metadata": {},
   "outputs": [],
   "source": [
    "from sklearn import preprocessing\n",
    "\n",
    "mm = preprocessing.MinMaxScaler()\n",
    "norm_data = mm.fit_transform(X)\n",
    "X = pd.DataFrame(norm_data, columns=X.columns)"
   ]
  },
  {
   "cell_type": "code",
   "execution_count": 116,
   "id": "b924ec40-dadc-4de4-99f4-727be8a836f5",
   "metadata": {},
   "outputs": [],
   "source": [
    "pdf = pd.concat([X, y], axis=1)"
   ]
  },
  {
   "cell_type": "code",
   "execution_count": 117,
   "id": "9a908557-e32d-47f0-a354-fb038bb69aef",
   "metadata": {},
   "outputs": [
    {
     "data": {
      "text/html": [
       "\n",
       "<div id=\"altair-viz-49f1f9e7c5854d2e9bba88b45fd78bfb\"></div>\n",
       "<script type=\"text/javascript\">\n",
       "  (function(spec, embedOpt){\n",
       "    let outputDiv = document.currentScript.previousElementSibling;\n",
       "    if (outputDiv.id !== \"altair-viz-49f1f9e7c5854d2e9bba88b45fd78bfb\") {\n",
       "      outputDiv = document.getElementById(\"altair-viz-49f1f9e7c5854d2e9bba88b45fd78bfb\");\n",
       "    }\n",
       "    const paths = {\n",
       "      \"vega\": \"https://cdn.jsdelivr.net/npm//vega@5?noext\",\n",
       "      \"vega-lib\": \"https://cdn.jsdelivr.net/npm//vega-lib?noext\",\n",
       "      \"vega-lite\": \"https://cdn.jsdelivr.net/npm//vega-lite@4.8.1?noext\",\n",
       "      \"vega-embed\": \"https://cdn.jsdelivr.net/npm//vega-embed@6?noext\",\n",
       "    };\n",
       "\n",
       "    function loadScript(lib) {\n",
       "      return new Promise(function(resolve, reject) {\n",
       "        var s = document.createElement('script');\n",
       "        s.src = paths[lib];\n",
       "        s.async = true;\n",
       "        s.onload = () => resolve(paths[lib]);\n",
       "        s.onerror = () => reject(`Error loading script: ${paths[lib]}`);\n",
       "        document.getElementsByTagName(\"head\")[0].appendChild(s);\n",
       "      });\n",
       "    }\n",
       "\n",
       "    function showError(err) {\n",
       "      outputDiv.innerHTML = `<div class=\"error\" style=\"color:red;\">${err}</div>`;\n",
       "      throw err;\n",
       "    }\n",
       "\n",
       "    function displayChart(vegaEmbed) {\n",
       "      vegaEmbed(outputDiv, spec, embedOpt)\n",
       "        .catch(err => showError(`Javascript Error: ${err.message}<br>This usually means there's a typo in your chart specification. See the javascript console for the full traceback.`));\n",
       "    }\n",
       "\n",
       "    if(typeof define === \"function\" && define.amd) {\n",
       "      requirejs.config({paths});\n",
       "      require([\"vega-embed\"], displayChart, err => showError(`Error loading script: ${err.message}`));\n",
       "    } else if (typeof vegaEmbed === \"function\") {\n",
       "      displayChart(vegaEmbed);\n",
       "    } else {\n",
       "      loadScript(\"vega\")\n",
       "        .then(() => loadScript(\"vega-lite\"))\n",
       "        .then(() => loadScript(\"vega-embed\"))\n",
       "        .catch(showError)\n",
       "        .then(() => displayChart(vegaEmbed));\n",
       "    }\n",
       "  })({\"config\": {\"view\": {\"continuousWidth\": 400, \"continuousHeight\": 300}}, \"repeat\": {\"column\": [\"Age\", \"Education\", \"Occupation\", \"Relationship\", \"Country\", \"Income\"], \"row\": [\"Age\", \"Education\", \"Occupation\", \"Relationship\", \"Country\", \"Income\"]}, \"spec\": {\"data\": {\"name\": \"data-bde01e4e691c9183a6a60f87965c4c61\"}, \"mark\": \"circle\", \"encoding\": {\"color\": {\"type\": \"nominal\", \"field\": \"Sex\"}, \"x\": {\"type\": \"quantitative\", \"field\": {\"repeat\": \"column\"}}, \"y\": {\"type\": \"quantitative\", \"field\": {\"repeat\": \"row\"}}}, \"height\": 200, \"width\": 200}, \"$schema\": \"https://vega.github.io/schema/vega-lite/v4.8.1.json\", \"datasets\": {\"data-bde01e4e691c9183a6a60f87965c4c61\": [{\"Age\": 0.0, \"Education\": 0.0, \"Occupation\": 0.0, \"Relationship\": 0.0, \"Country\": 0.0, \"Income\": 0.0, \"Sex\": \"Male\"}, {\"Age\": 0.3333333333333333, \"Education\": 0.0, \"Occupation\": 0.16666666666666666, \"Relationship\": 0.3333333333333333, \"Country\": 0.0, \"Income\": 0.0, \"Sex\": \"Female\"}, {\"Age\": 0.0, \"Education\": 0.2, \"Occupation\": 0.33333333333333337, \"Relationship\": 0.0, \"Country\": 0.0, \"Income\": 0.0, \"Sex\": \"Male\"}, {\"Age\": 0.0, \"Education\": 0.4000000000000001, \"Occupation\": 0.5, \"Relationship\": 0.6666666666666667, \"Country\": 0.0, \"Income\": 0.0, \"Sex\": \"Female\"}, {\"Age\": 0.6666666666666667, \"Education\": 0.0, \"Occupation\": 0.6666666666666666, \"Relationship\": 0.3333333333333333, \"Country\": 0.0, \"Income\": 0.0, \"Sex\": \"Female\"}, {\"Age\": 0.3333333333333333, \"Education\": 0.4000000000000001, \"Occupation\": 0.8333333333333334, \"Relationship\": 0.0, \"Country\": 0.0, \"Income\": 0.0, \"Sex\": \"Male\"}, {\"Age\": 0.3333333333333333, \"Education\": 0.6000000000000001, \"Occupation\": 0.5, \"Relationship\": 0.0, \"Country\": 0.0, \"Income\": 0.0, \"Sex\": \"Male\"}, {\"Age\": 1.0, \"Education\": 0.4000000000000001, \"Occupation\": 0.0, \"Relationship\": 0.6666666666666667, \"Country\": 0.0, \"Income\": 0.0, \"Sex\": \"Male\"}, {\"Age\": 0.0, \"Education\": 0.8, \"Occupation\": 0.16666666666666666, \"Relationship\": 1.0, \"Country\": 0.0, \"Income\": 0.0, \"Sex\": \"Male\"}, {\"Age\": 1.0, \"Education\": 0.0, \"Occupation\": 0.33333333333333337, \"Relationship\": 0.3333333333333333, \"Country\": 0.0, \"Income\": 0.0, \"Sex\": \"Male\"}, {\"Age\": 0.0, \"Education\": 0.4000000000000001, \"Occupation\": 0.6666666666666666, \"Relationship\": 0.6666666666666667, \"Country\": 0.0, \"Income\": 0.0, \"Sex\": \"Female\"}, {\"Age\": 0.0, \"Education\": 1.0000000000000002, \"Occupation\": 0.9999999999999999, \"Relationship\": 0.0, \"Country\": 0.0, \"Income\": 0.0, \"Sex\": \"Male\"}, {\"Age\": 0.0, \"Education\": 0.4000000000000001, \"Occupation\": 0.33333333333333337, \"Relationship\": 0.0, \"Country\": 1.0, \"Income\": 1.0, \"Sex\": \"Male\"}]}}, {\"mode\": \"vega-lite\"});\n",
       "</script>"
      ],
      "text/plain": [
       "alt.RepeatChart(...)"
      ]
     },
     "execution_count": 117,
     "metadata": {},
     "output_type": "execute_result"
    }
   ],
   "source": [
    "import altair as alt\n",
    "\n",
    "alt.Chart(pdf).mark_circle().encode(\n",
    "    alt.X(alt.repeat(\"column\"), type='quantitative'),\n",
    "    alt.Y(alt.repeat(\"row\"), type='quantitative'),\n",
    "    color=f'{target}:N'\n",
    ").properties(width=200, height=200).repeat(row=X.columns.tolist(), column=X.columns.tolist())"
   ]
  },
  {
   "cell_type": "code",
   "execution_count": 118,
   "id": "a8db9a13-0c72-4b33-b090-814b7eed67db",
   "metadata": {},
   "outputs": [
    {
     "data": {
      "text/html": [
       "\n",
       "<div id=\"altair-viz-260abd310ec145708a78515419520032\"></div>\n",
       "<script type=\"text/javascript\">\n",
       "  (function(spec, embedOpt){\n",
       "    let outputDiv = document.currentScript.previousElementSibling;\n",
       "    if (outputDiv.id !== \"altair-viz-260abd310ec145708a78515419520032\") {\n",
       "      outputDiv = document.getElementById(\"altair-viz-260abd310ec145708a78515419520032\");\n",
       "    }\n",
       "    const paths = {\n",
       "      \"vega\": \"https://cdn.jsdelivr.net/npm//vega@5?noext\",\n",
       "      \"vega-lib\": \"https://cdn.jsdelivr.net/npm//vega-lib?noext\",\n",
       "      \"vega-lite\": \"https://cdn.jsdelivr.net/npm//vega-lite@4.8.1?noext\",\n",
       "      \"vega-embed\": \"https://cdn.jsdelivr.net/npm//vega-embed@6?noext\",\n",
       "    };\n",
       "\n",
       "    function loadScript(lib) {\n",
       "      return new Promise(function(resolve, reject) {\n",
       "        var s = document.createElement('script');\n",
       "        s.src = paths[lib];\n",
       "        s.async = true;\n",
       "        s.onload = () => resolve(paths[lib]);\n",
       "        s.onerror = () => reject(`Error loading script: ${paths[lib]}`);\n",
       "        document.getElementsByTagName(\"head\")[0].appendChild(s);\n",
       "      });\n",
       "    }\n",
       "\n",
       "    function showError(err) {\n",
       "      outputDiv.innerHTML = `<div class=\"error\" style=\"color:red;\">${err}</div>`;\n",
       "      throw err;\n",
       "    }\n",
       "\n",
       "    function displayChart(vegaEmbed) {\n",
       "      vegaEmbed(outputDiv, spec, embedOpt)\n",
       "        .catch(err => showError(`Javascript Error: ${err.message}<br>This usually means there's a typo in your chart specification. See the javascript console for the full traceback.`));\n",
       "    }\n",
       "\n",
       "    if(typeof define === \"function\" && define.amd) {\n",
       "      requirejs.config({paths});\n",
       "      require([\"vega-embed\"], displayChart, err => showError(`Error loading script: ${err.message}`));\n",
       "    } else if (typeof vegaEmbed === \"function\") {\n",
       "      displayChart(vegaEmbed);\n",
       "    } else {\n",
       "      loadScript(\"vega\")\n",
       "        .then(() => loadScript(\"vega-lite\"))\n",
       "        .then(() => loadScript(\"vega-embed\"))\n",
       "        .catch(showError)\n",
       "        .then(() => displayChart(vegaEmbed));\n",
       "    }\n",
       "  })({\"config\": {\"view\": {\"continuousWidth\": 400, \"continuousHeight\": 300}}, \"data\": {\"name\": \"data-75a1a93845a3b3c97cc0bc706f87ec25\"}, \"mark\": \"point\", \"encoding\": {\"color\": {\"type\": \"nominal\", \"field\": \"Sex\"}, \"x\": {\"type\": \"quantitative\", \"field\": \"PCA-X\"}, \"y\": {\"type\": \"quantitative\", \"field\": \"PCA-Y\"}}, \"height\": 400, \"selection\": {\"selector002\": {\"type\": \"interval\", \"bind\": \"scales\", \"encodings\": [\"x\", \"y\"]}}, \"width\": 600, \"$schema\": \"https://vega.github.io/schema/vega-lite/v4.8.1.json\", \"datasets\": {\"data-75a1a93845a3b3c97cc0bc706f87ec25\": [{\"PCA-X\": -0.006191537093089632, \"PCA-Y\": 0.28903844400263434, \"Sex\": \"Male\"}, {\"PCA-X\": -0.2894442236861266, \"PCA-Y\": 0.20658849391889358, \"Sex\": \"Female\"}, {\"PCA-X\": 0.15311943913849066, \"PCA-Y\": 0.0704860641124744, \"Sex\": \"Male\"}, {\"PCA-X\": 0.03777801906429358, \"PCA-Y\": -0.3338809105687304, \"Sex\": \"Female\"}, {\"PCA-X\": -0.3667203281745187, \"PCA-Y\": 0.129164834905811, \"Sex\": \"Female\"}, {\"PCA-X\": 0.14362046561267025, \"PCA-Y\": -0.10831529969094947, \"Sex\": \"Male\"}, {\"PCA-X\": 0.11986375130623339, \"PCA-Y\": -0.09251832938147247, \"Sex\": \"Male\"}, {\"PCA-X\": -0.7432533660149333, \"PCA-Y\": 0.13689616299093355, \"Sex\": \"Male\"}, {\"PCA-X\": -0.03264430111520813, \"PCA-Y\": -0.5416626112200719, \"Sex\": \"Male\"}, {\"PCA-X\": -0.6728310458354317, \"PCA-Y\": 0.3446778636422751, \"Sex\": \"Male\"}, {\"PCA-X\": 0.08354494169879781, \"PCA-Y\": -0.3924682481186396, \"Sex\": \"Female\"}, {\"PCA-X\": 0.6072956535267943, \"PCA-Y\": -0.5693741052485285, \"Sex\": \"Male\"}, {\"PCA-X\": 0.9658625315720276, \"PCA-Y\": 0.861367640655371, \"Sex\": \"Male\"}]}}, {\"mode\": \"vega-lite\"});\n",
       "</script>"
      ],
      "text/plain": [
       "alt.Chart(...)"
      ]
     },
     "execution_count": 118,
     "metadata": {},
     "output_type": "execute_result"
    }
   ],
   "source": [
    "import altair as alt\n",
    "from sklearn.decomposition import PCA\n",
    "\n",
    "pca = PCA(n_components=2)\n",
    "_X = pca.fit_transform(X)\n",
    "_X = pd.DataFrame({'PCA-X': _X[:, 0], 'PCA-Y': _X[:, 1], target: y})\n",
    "alt.Chart(_X).mark_point().encode(x='PCA-X', y='PCA-Y', color=f'{target}:N').properties(width=600, height=400).interactive()"
   ]
  },
  {
   "cell_type": "code",
   "execution_count": 122,
   "id": "d3b74440-6bea-4ef3-9116-63fe71721924",
   "metadata": {},
   "outputs": [
    {
     "data": {
      "text/plain": [
       "0.3068719804286957"
      ]
     },
     "execution_count": 122,
     "metadata": {},
     "output_type": "execute_result"
    }
   ],
   "source": [
    "# One of non-linear embedding in sklearn\n",
    "from sklearn.manifold import TSNE\n",
    "\n",
    "tsne = TSNE(n_components=2, random_state=0)\n",
    "_X = tsne.fit_transform(X)\n",
    "tsne.kl_divergence_"
   ]
  },
  {
   "cell_type": "code",
   "execution_count": 123,
   "id": "6ccf4ce4-23ea-4dcd-895e-910bc114f785",
   "metadata": {},
   "outputs": [
    {
     "data": {
      "text/html": [
       "\n",
       "<div id=\"altair-viz-4210190fb032436e908b9d7081143e7e\"></div>\n",
       "<script type=\"text/javascript\">\n",
       "  (function(spec, embedOpt){\n",
       "    let outputDiv = document.currentScript.previousElementSibling;\n",
       "    if (outputDiv.id !== \"altair-viz-4210190fb032436e908b9d7081143e7e\") {\n",
       "      outputDiv = document.getElementById(\"altair-viz-4210190fb032436e908b9d7081143e7e\");\n",
       "    }\n",
       "    const paths = {\n",
       "      \"vega\": \"https://cdn.jsdelivr.net/npm//vega@5?noext\",\n",
       "      \"vega-lib\": \"https://cdn.jsdelivr.net/npm//vega-lib?noext\",\n",
       "      \"vega-lite\": \"https://cdn.jsdelivr.net/npm//vega-lite@4.8.1?noext\",\n",
       "      \"vega-embed\": \"https://cdn.jsdelivr.net/npm//vega-embed@6?noext\",\n",
       "    };\n",
       "\n",
       "    function loadScript(lib) {\n",
       "      return new Promise(function(resolve, reject) {\n",
       "        var s = document.createElement('script');\n",
       "        s.src = paths[lib];\n",
       "        s.async = true;\n",
       "        s.onload = () => resolve(paths[lib]);\n",
       "        s.onerror = () => reject(`Error loading script: ${paths[lib]}`);\n",
       "        document.getElementsByTagName(\"head\")[0].appendChild(s);\n",
       "      });\n",
       "    }\n",
       "\n",
       "    function showError(err) {\n",
       "      outputDiv.innerHTML = `<div class=\"error\" style=\"color:red;\">${err}</div>`;\n",
       "      throw err;\n",
       "    }\n",
       "\n",
       "    function displayChart(vegaEmbed) {\n",
       "      vegaEmbed(outputDiv, spec, embedOpt)\n",
       "        .catch(err => showError(`Javascript Error: ${err.message}<br>This usually means there's a typo in your chart specification. See the javascript console for the full traceback.`));\n",
       "    }\n",
       "\n",
       "    if(typeof define === \"function\" && define.amd) {\n",
       "      requirejs.config({paths});\n",
       "      require([\"vega-embed\"], displayChart, err => showError(`Error loading script: ${err.message}`));\n",
       "    } else if (typeof vegaEmbed === \"function\") {\n",
       "      displayChart(vegaEmbed);\n",
       "    } else {\n",
       "      loadScript(\"vega\")\n",
       "        .then(() => loadScript(\"vega-lite\"))\n",
       "        .then(() => loadScript(\"vega-embed\"))\n",
       "        .catch(showError)\n",
       "        .then(() => displayChart(vegaEmbed));\n",
       "    }\n",
       "  })({\"config\": {\"view\": {\"continuousWidth\": 400, \"continuousHeight\": 300}}, \"data\": {\"name\": \"data-aefea660861a854f4b216f4a5b3ba81a\"}, \"mark\": \"point\", \"encoding\": {\"color\": {\"type\": \"nominal\", \"field\": \"Sex\"}, \"x\": {\"type\": \"quantitative\", \"field\": \"tSNE-X\"}, \"y\": {\"type\": \"quantitative\", \"field\": \"tSNE-Y\"}}, \"height\": 400, \"selection\": {\"selector004\": {\"type\": \"interval\", \"bind\": \"scales\", \"encodings\": [\"x\", \"y\"]}}, \"width\": 600, \"$schema\": \"https://vega.github.io/schema/vega-lite/v4.8.1.json\", \"datasets\": {\"data-aefea660861a854f4b216f4a5b3ba81a\": [{\"tSNE-X\": -28.37015724182129, \"tSNE-Y\": 75.71671295166016, \"Sex\": \"Male\"}, {\"tSNE-X\": 140.52513122558594, \"tSNE-Y\": 125.03842163085938, \"Sex\": \"Female\"}, {\"tSNE-X\": -15.713380813598633, \"tSNE-Y\": -6.499067783355713, \"Sex\": \"Male\"}, {\"tSNE-X\": -34.62474060058594, \"tSNE-Y\": 168.4297637939453, \"Sex\": \"Female\"}, {\"tSNE-X\": 66.22930908203125, \"tSNE-Y\": 7.804510593414307, \"Sex\": \"Female\"}, {\"tSNE-X\": 54.002044677734375, \"tSNE-Y\": 90.61491394042969, \"Sex\": \"Male\"}, {\"tSNE-X\": -115.58010864257812, \"tSNE-Y\": 108.73042297363281, \"Sex\": \"Male\"}, {\"tSNE-X\": 156.04005432128906, \"tSNE-Y\": 31.69039535522461, \"Sex\": \"Male\"}, {\"tSNE-X\": 31.304780960083008, \"tSNE-Y\": -90.66338348388672, \"Sex\": \"Male\"}, {\"tSNE-X\": 125.52310180664062, \"tSNE-Y\": -64.16011047363281, \"Sex\": \"Male\"}, {\"tSNE-X\": -110.4810791015625, \"tSNE-Y\": 11.011039733886719, \"Sex\": \"Female\"}, {\"tSNE-X\": 58.766029357910156, \"tSNE-Y\": 183.6070556640625, \"Sex\": \"Male\"}, {\"tSNE-X\": -69.45768737792969, \"tSNE-Y\": -81.48936462402344, \"Sex\": \"Male\"}]}}, {\"mode\": \"vega-lite\"});\n",
       "</script>"
      ],
      "text/plain": [
       "alt.Chart(...)"
      ]
     },
     "execution_count": 123,
     "metadata": {},
     "output_type": "execute_result"
    }
   ],
   "source": [
    "import altair as alt\n",
    "\n",
    "_X = pd.DataFrame({'tSNE-X': _X[:, 0], 'tSNE-Y': _X[:, 1], target: y})\n",
    "alt.Chart(_X).mark_point().encode(x='tSNE-X', y='tSNE-Y', color=f'{target}:N').properties(width=600, height=400).interactive()"
   ]
  },
  {
   "cell_type": "code",
   "execution_count": 135,
   "id": "0bcf1338-6479-4fdf-b659-76b3cf8d81f9",
   "metadata": {
    "collapsed": true,
    "jupyter": {
     "outputs_hidden": true
    },
    "tags": []
   },
   "outputs": [
    {
     "name": "stdout",
     "output_type": "stream",
     "text": [
      "SCORE with ALL Features: 0.82\n",
      "\n",
      "[False False False False False False]\n",
      "Selected Features: \n"
     ]
    },
    {
     "ename": "ValueError",
     "evalue": "at least one array or dtype is required",
     "output_type": "error",
     "traceback": [
      "\u001b[0;31m---------------------------------------------------------------------------\u001b[0m",
      "\u001b[0;31mValueError\u001b[0m                                Traceback (most recent call last)",
      "\u001b[0;32m<ipython-input-135-ae6721aed171>\u001b[0m in \u001b[0;36m<module>\u001b[0;34m\u001b[0m\n\u001b[1;32m     18\u001b[0m \u001b[0mX_selected\u001b[0m \u001b[0;34m=\u001b[0m \u001b[0mX\u001b[0m\u001b[0;34m[\u001b[0m\u001b[0mX\u001b[0m\u001b[0;34m.\u001b[0m\u001b[0mcolumns\u001b[0m\u001b[0;34m[\u001b[0m\u001b[0mselected\u001b[0m\u001b[0;34m]\u001b[0m\u001b[0;34m]\u001b[0m\u001b[0;34m\u001b[0m\u001b[0;34m\u001b[0m\u001b[0m\n\u001b[1;32m     19\u001b[0m \u001b[0mrf\u001b[0m \u001b[0;34m=\u001b[0m \u001b[0mRandomForestRegressor\u001b[0m\u001b[0;34m(\u001b[0m\u001b[0mn_jobs\u001b[0m\u001b[0;34m=\u001b[0m\u001b[0;34m-\u001b[0m\u001b[0;36m1\u001b[0m\u001b[0;34m,\u001b[0m \u001b[0mmax_depth\u001b[0m\u001b[0;34m=\u001b[0m\u001b[0;36m5\u001b[0m\u001b[0;34m)\u001b[0m\u001b[0;34m\u001b[0m\u001b[0;34m\u001b[0m\u001b[0m\n\u001b[0;32m---> 20\u001b[0;31m \u001b[0mrf\u001b[0m\u001b[0;34m.\u001b[0m\u001b[0mfit\u001b[0m\u001b[0;34m(\u001b[0m\u001b[0mX_selected\u001b[0m\u001b[0;34m,\u001b[0m \u001b[0m_y\u001b[0m\u001b[0;34m)\u001b[0m\u001b[0;34m\u001b[0m\u001b[0;34m\u001b[0m\u001b[0m\n\u001b[0m\u001b[1;32m     21\u001b[0m \u001b[0mprint\u001b[0m\u001b[0;34m(\u001b[0m\u001b[0;34m'SCORE with selected Features: %1.2f'\u001b[0m \u001b[0;34m%\u001b[0m \u001b[0mrf\u001b[0m\u001b[0;34m.\u001b[0m\u001b[0mscore\u001b[0m\u001b[0;34m(\u001b[0m\u001b[0mX_selected\u001b[0m\u001b[0;34m,\u001b[0m \u001b[0m_y\u001b[0m\u001b[0;34m)\u001b[0m\u001b[0;34m)\u001b[0m\u001b[0;34m\u001b[0m\u001b[0;34m\u001b[0m\u001b[0m\n",
      "\u001b[0;32m~/.miniconda3/envs/spark-data-repair-plugin-05be969/lib/python3.6/site-packages/sklearn/ensemble/_forest.py\u001b[0m in \u001b[0;36mfit\u001b[0;34m(self, X, y, sample_weight)\u001b[0m\n\u001b[1;32m    303\u001b[0m             )\n\u001b[1;32m    304\u001b[0m         X, y = self._validate_data(X, y, multi_output=True,\n\u001b[0;32m--> 305\u001b[0;31m                                    accept_sparse=\"csc\", dtype=DTYPE)\n\u001b[0m\u001b[1;32m    306\u001b[0m         \u001b[0;32mif\u001b[0m \u001b[0msample_weight\u001b[0m \u001b[0;32mis\u001b[0m \u001b[0;32mnot\u001b[0m \u001b[0;32mNone\u001b[0m\u001b[0;34m:\u001b[0m\u001b[0;34m\u001b[0m\u001b[0;34m\u001b[0m\u001b[0m\n\u001b[1;32m    307\u001b[0m             \u001b[0msample_weight\u001b[0m \u001b[0;34m=\u001b[0m \u001b[0m_check_sample_weight\u001b[0m\u001b[0;34m(\u001b[0m\u001b[0msample_weight\u001b[0m\u001b[0;34m,\u001b[0m \u001b[0mX\u001b[0m\u001b[0;34m)\u001b[0m\u001b[0;34m\u001b[0m\u001b[0;34m\u001b[0m\u001b[0m\n",
      "\u001b[0;32m~/.miniconda3/envs/spark-data-repair-plugin-05be969/lib/python3.6/site-packages/sklearn/base.py\u001b[0m in \u001b[0;36m_validate_data\u001b[0;34m(self, X, y, reset, validate_separately, **check_params)\u001b[0m\n\u001b[1;32m    431\u001b[0m                 \u001b[0my\u001b[0m \u001b[0;34m=\u001b[0m \u001b[0mcheck_array\u001b[0m\u001b[0;34m(\u001b[0m\u001b[0my\u001b[0m\u001b[0;34m,\u001b[0m \u001b[0;34m**\u001b[0m\u001b[0mcheck_y_params\u001b[0m\u001b[0;34m)\u001b[0m\u001b[0;34m\u001b[0m\u001b[0;34m\u001b[0m\u001b[0m\n\u001b[1;32m    432\u001b[0m             \u001b[0;32melse\u001b[0m\u001b[0;34m:\u001b[0m\u001b[0;34m\u001b[0m\u001b[0;34m\u001b[0m\u001b[0m\n\u001b[0;32m--> 433\u001b[0;31m                 \u001b[0mX\u001b[0m\u001b[0;34m,\u001b[0m \u001b[0my\u001b[0m \u001b[0;34m=\u001b[0m \u001b[0mcheck_X_y\u001b[0m\u001b[0;34m(\u001b[0m\u001b[0mX\u001b[0m\u001b[0;34m,\u001b[0m \u001b[0my\u001b[0m\u001b[0;34m,\u001b[0m \u001b[0;34m**\u001b[0m\u001b[0mcheck_params\u001b[0m\u001b[0;34m)\u001b[0m\u001b[0;34m\u001b[0m\u001b[0;34m\u001b[0m\u001b[0m\n\u001b[0m\u001b[1;32m    434\u001b[0m             \u001b[0mout\u001b[0m \u001b[0;34m=\u001b[0m \u001b[0mX\u001b[0m\u001b[0;34m,\u001b[0m \u001b[0my\u001b[0m\u001b[0;34m\u001b[0m\u001b[0;34m\u001b[0m\u001b[0m\n\u001b[1;32m    435\u001b[0m \u001b[0;34m\u001b[0m\u001b[0m\n",
      "\u001b[0;32m~/.miniconda3/envs/spark-data-repair-plugin-05be969/lib/python3.6/site-packages/sklearn/utils/validation.py\u001b[0m in \u001b[0;36minner_f\u001b[0;34m(*args, **kwargs)\u001b[0m\n\u001b[1;32m     61\u001b[0m             \u001b[0mextra_args\u001b[0m \u001b[0;34m=\u001b[0m \u001b[0mlen\u001b[0m\u001b[0;34m(\u001b[0m\u001b[0margs\u001b[0m\u001b[0;34m)\u001b[0m \u001b[0;34m-\u001b[0m \u001b[0mlen\u001b[0m\u001b[0;34m(\u001b[0m\u001b[0mall_args\u001b[0m\u001b[0;34m)\u001b[0m\u001b[0;34m\u001b[0m\u001b[0;34m\u001b[0m\u001b[0m\n\u001b[1;32m     62\u001b[0m             \u001b[0;32mif\u001b[0m \u001b[0mextra_args\u001b[0m \u001b[0;34m<=\u001b[0m \u001b[0;36m0\u001b[0m\u001b[0;34m:\u001b[0m\u001b[0;34m\u001b[0m\u001b[0;34m\u001b[0m\u001b[0m\n\u001b[0;32m---> 63\u001b[0;31m                 \u001b[0;32mreturn\u001b[0m \u001b[0mf\u001b[0m\u001b[0;34m(\u001b[0m\u001b[0;34m*\u001b[0m\u001b[0margs\u001b[0m\u001b[0;34m,\u001b[0m \u001b[0;34m**\u001b[0m\u001b[0mkwargs\u001b[0m\u001b[0;34m)\u001b[0m\u001b[0;34m\u001b[0m\u001b[0;34m\u001b[0m\u001b[0m\n\u001b[0m\u001b[1;32m     64\u001b[0m \u001b[0;34m\u001b[0m\u001b[0m\n\u001b[1;32m     65\u001b[0m             \u001b[0;31m# extra_args > 0\u001b[0m\u001b[0;34m\u001b[0m\u001b[0;34m\u001b[0m\u001b[0;34m\u001b[0m\u001b[0m\n",
      "\u001b[0;32m~/.miniconda3/envs/spark-data-repair-plugin-05be969/lib/python3.6/site-packages/sklearn/utils/validation.py\u001b[0m in \u001b[0;36mcheck_X_y\u001b[0;34m(X, y, accept_sparse, accept_large_sparse, dtype, order, copy, force_all_finite, ensure_2d, allow_nd, multi_output, ensure_min_samples, ensure_min_features, y_numeric, estimator)\u001b[0m\n\u001b[1;32m    876\u001b[0m                     \u001b[0mensure_min_samples\u001b[0m\u001b[0;34m=\u001b[0m\u001b[0mensure_min_samples\u001b[0m\u001b[0;34m,\u001b[0m\u001b[0;34m\u001b[0m\u001b[0;34m\u001b[0m\u001b[0m\n\u001b[1;32m    877\u001b[0m                     \u001b[0mensure_min_features\u001b[0m\u001b[0;34m=\u001b[0m\u001b[0mensure_min_features\u001b[0m\u001b[0;34m,\u001b[0m\u001b[0;34m\u001b[0m\u001b[0;34m\u001b[0m\u001b[0m\n\u001b[0;32m--> 878\u001b[0;31m                     estimator=estimator)\n\u001b[0m\u001b[1;32m    879\u001b[0m     \u001b[0;32mif\u001b[0m \u001b[0mmulti_output\u001b[0m\u001b[0;34m:\u001b[0m\u001b[0;34m\u001b[0m\u001b[0;34m\u001b[0m\u001b[0m\n\u001b[1;32m    880\u001b[0m         y = check_array(y, accept_sparse='csr', force_all_finite=True,\n",
      "\u001b[0;32m~/.miniconda3/envs/spark-data-repair-plugin-05be969/lib/python3.6/site-packages/sklearn/utils/validation.py\u001b[0m in \u001b[0;36minner_f\u001b[0;34m(*args, **kwargs)\u001b[0m\n\u001b[1;32m     61\u001b[0m             \u001b[0mextra_args\u001b[0m \u001b[0;34m=\u001b[0m \u001b[0mlen\u001b[0m\u001b[0;34m(\u001b[0m\u001b[0margs\u001b[0m\u001b[0;34m)\u001b[0m \u001b[0;34m-\u001b[0m \u001b[0mlen\u001b[0m\u001b[0;34m(\u001b[0m\u001b[0mall_args\u001b[0m\u001b[0;34m)\u001b[0m\u001b[0;34m\u001b[0m\u001b[0;34m\u001b[0m\u001b[0m\n\u001b[1;32m     62\u001b[0m             \u001b[0;32mif\u001b[0m \u001b[0mextra_args\u001b[0m \u001b[0;34m<=\u001b[0m \u001b[0;36m0\u001b[0m\u001b[0;34m:\u001b[0m\u001b[0;34m\u001b[0m\u001b[0;34m\u001b[0m\u001b[0m\n\u001b[0;32m---> 63\u001b[0;31m                 \u001b[0;32mreturn\u001b[0m \u001b[0mf\u001b[0m\u001b[0;34m(\u001b[0m\u001b[0;34m*\u001b[0m\u001b[0margs\u001b[0m\u001b[0;34m,\u001b[0m \u001b[0;34m**\u001b[0m\u001b[0mkwargs\u001b[0m\u001b[0;34m)\u001b[0m\u001b[0;34m\u001b[0m\u001b[0;34m\u001b[0m\u001b[0m\n\u001b[0m\u001b[1;32m     64\u001b[0m \u001b[0;34m\u001b[0m\u001b[0m\n\u001b[1;32m     65\u001b[0m             \u001b[0;31m# extra_args > 0\u001b[0m\u001b[0;34m\u001b[0m\u001b[0;34m\u001b[0m\u001b[0;34m\u001b[0m\u001b[0m\n",
      "\u001b[0;32m~/.miniconda3/envs/spark-data-repair-plugin-05be969/lib/python3.6/site-packages/sklearn/utils/validation.py\u001b[0m in \u001b[0;36mcheck_array\u001b[0;34m(array, accept_sparse, accept_large_sparse, dtype, order, copy, force_all_finite, ensure_2d, allow_nd, ensure_min_samples, ensure_min_features, estimator)\u001b[0m\n\u001b[1;32m    595\u001b[0m \u001b[0;34m\u001b[0m\u001b[0m\n\u001b[1;32m    596\u001b[0m         \u001b[0;32mif\u001b[0m \u001b[0mall\u001b[0m\u001b[0;34m(\u001b[0m\u001b[0misinstance\u001b[0m\u001b[0;34m(\u001b[0m\u001b[0mdtype\u001b[0m\u001b[0;34m,\u001b[0m \u001b[0mnp\u001b[0m\u001b[0;34m.\u001b[0m\u001b[0mdtype\u001b[0m\u001b[0;34m)\u001b[0m \u001b[0;32mfor\u001b[0m \u001b[0mdtype\u001b[0m \u001b[0;32min\u001b[0m \u001b[0mdtypes_orig\u001b[0m\u001b[0;34m)\u001b[0m\u001b[0;34m:\u001b[0m\u001b[0;34m\u001b[0m\u001b[0;34m\u001b[0m\u001b[0m\n\u001b[0;32m--> 597\u001b[0;31m             \u001b[0mdtype_orig\u001b[0m \u001b[0;34m=\u001b[0m \u001b[0mnp\u001b[0m\u001b[0;34m.\u001b[0m\u001b[0mresult_type\u001b[0m\u001b[0;34m(\u001b[0m\u001b[0;34m*\u001b[0m\u001b[0mdtypes_orig\u001b[0m\u001b[0;34m)\u001b[0m\u001b[0;34m\u001b[0m\u001b[0;34m\u001b[0m\u001b[0m\n\u001b[0m\u001b[1;32m    598\u001b[0m \u001b[0;34m\u001b[0m\u001b[0m\n\u001b[1;32m    599\u001b[0m     \u001b[0;32mif\u001b[0m \u001b[0mdtype_numeric\u001b[0m\u001b[0;34m:\u001b[0m\u001b[0;34m\u001b[0m\u001b[0;34m\u001b[0m\u001b[0m\n",
      "\u001b[0;32m<__array_function__ internals>\u001b[0m in \u001b[0;36mresult_type\u001b[0;34m(*args, **kwargs)\u001b[0m\n",
      "\u001b[0;31mValueError\u001b[0m: at least one array or dtype is required"
     ]
    }
   ],
   "source": [
    "from sklearn.ensemble import RandomForestRegressor\n",
    "from boruta import BorutaPy\n",
    "\n",
    "_y = y.replace(dict(map(lambda v: (v[1], v[0]), enumerate(y.unique()))))\n",
    "\n",
    "rf = RandomForestRegressor(n_jobs=-1, max_depth=5)\n",
    "rf.fit(X, _y)\n",
    "print('SCORE with ALL Features: %1.2f\\n' % rf.score(X, _y))\n",
    "\n",
    "rf = RandomForestRegressor(n_jobs=-1, max_depth=5)\n",
    "fs = BorutaPy(rf, n_estimators='auto', random_state=0)\n",
    "fs.fit(X.values, _y.values)\n",
    "\n",
    "selected = fs.support_\n",
    "print('Selected Features: %s' % ','.join(X.columns[selected]))\n",
    "\n",
    "X_selected = X[X.columns[selected]]\n",
    "rf = RandomForestRegressor(n_jobs=-1, max_depth=5)\n",
    "rf.fit(X_selected, _y)\n",
    "print('SCORE with selected Features: %1.2f' % rf.score(X_selected, _y))"
   ]
  },
  {
   "cell_type": "code",
   "execution_count": null,
   "id": "385d6998-8014-44eb-805e-97a23971d1a6",
   "metadata": {},
   "outputs": [],
   "source": []
  }
 ],
 "metadata": {
  "kernelspec": {
   "display_name": "Python 3",
   "language": "python",
   "name": "python3"
  },
  "language_info": {
   "codemirror_mode": {
    "name": "ipython",
    "version": 3
   },
   "file_extension": ".py",
   "mimetype": "text/x-python",
   "name": "python",
   "nbconvert_exporter": "python",
   "pygments_lexer": "ipython3",
   "version": "3.6.8"
  }
 },
 "nbformat": 4,
 "nbformat_minor": 5
}
