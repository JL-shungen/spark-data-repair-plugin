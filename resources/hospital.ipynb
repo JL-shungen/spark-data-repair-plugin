{
 "cells": [
  {
   "cell_type": "code",
   "execution_count": 1,
   "id": "ceff3d22-8ec7-418c-a57c-1bc97fd95a9f",
   "metadata": {
    "tags": []
   },
   "outputs": [],
   "source": [
    "package_jar = '../target/spark-data-repair-plugin_2.12_spark3.2_0.1.0-EXPERIMENTAL-with-dependencies.jar'"
   ]
  },
  {
   "cell_type": "code",
   "execution_count": 2,
   "id": "27711cdf-ccc0-4c3f-90f0-35fa222ded4f",
   "metadata": {
    "tags": []
   },
   "outputs": [
    {
     "name": "stderr",
     "output_type": "stream",
     "text": [
      "NOTE: SPARK_PREPEND_CLASSES is set, placing locally compiled Spark classes ahead of assembly.\n",
      "21/11/23 00:19:04 WARN Utils: Your hostname, maropus-MacBook-Pro.local resolves to a loopback address: 127.0.0.1; using 192.168.3.4 instead (on interface en0)\n",
      "21/11/23 00:19:04 WARN Utils: Set SPARK_LOCAL_IP if you need to bind to another address\n",
      "21/11/23 00:19:05 WARN NativeCodeLoader: Unable to load native-hadoop library for your platform... using builtin-java classes where applicable\n",
      "Using Spark's default log4j profile: org/apache/spark/log4j-defaults.properties\n",
      "Setting default log level to \"WARN\".\n",
      "To adjust logging level use sc.setLogLevel(newLevel). For SparkR, use setLogLevel(newLevel).\n"
     ]
    }
   ],
   "source": [
    "import numpy as np\n",
    "import pandas as pd\n",
    "from pyspark.sql import *\n",
    "from pyspark.sql.types import *\n",
    "from pyspark.sql import functions as f\n",
    "\n",
    "spark = SparkSession.builder \\\n",
    "    .config('spark.jars', package_jar) \\\n",
    "    .config('spark.deriver.memory', '8g') \\\n",
    "    .enableHiveSupport() \\\n",
    "    .getOrCreate()\n",
    "\n",
    "# Suppresses user warinig messages in Python\n",
    "import warnings\n",
    "warnings.simplefilter(\"ignore\", UserWarning)\n",
    "\n",
    "# For setting up Python root logger\n",
    "import logging\n",
    "logging.basicConfig(\n",
    "    level=logging.INFO,\n",
    "    format='%(asctime)s.%(msecs)03d %(levelname)s %(module)s: %(message)s',\n",
    "    datefmt='%Y-%m-%d %H:%M:%S'\n",
    ")\n",
    "\n",
    "# Suppresses logger messages in JVM\n",
    "spark.sparkContext.setLogLevel(\"ERROR\")"
   ]
  },
  {
   "cell_type": "code",
   "execution_count": 3,
   "id": "6cb89551-8083-4dbe-b4d5-8c0e17fec630",
   "metadata": {
    "tags": []
   },
   "outputs": [
    {
     "data": {
      "text/plain": [
       "'0.1.0-spark3.2-EXPERIMENTAL'"
      ]
     },
     "execution_count": 3,
     "metadata": {},
     "output_type": "execute_result"
    }
   ],
   "source": [
    "from repair.api import Delphi\n",
    "Delphi().version()"
   ]
  },
  {
   "cell_type": "code",
   "execution_count": 4,
   "id": "4208dfa5-bbd6-49f1-b133-f1f22306ec0d",
   "metadata": {},
   "outputs": [
    {
     "name": "stdout",
     "output_type": "stream",
     "text": [
      "root\n",
      " |-- tid: string (nullable = true)\n",
      " |-- ProviderNumber: string (nullable = true)\n",
      " |-- HospitalName: string (nullable = true)\n",
      " |-- Address1: string (nullable = true)\n",
      " |-- Address2: string (nullable = true)\n",
      " |-- Address3: string (nullable = true)\n",
      " |-- City: string (nullable = true)\n",
      " |-- State: string (nullable = true)\n",
      " |-- ZipCode: string (nullable = true)\n",
      " |-- CountyName: string (nullable = true)\n",
      " |-- PhoneNumber: string (nullable = true)\n",
      " |-- HospitalType: string (nullable = true)\n",
      " |-- HospitalOwner: string (nullable = true)\n",
      " |-- EmergencyService: string (nullable = true)\n",
      " |-- Condition: string (nullable = true)\n",
      " |-- MeasureCode: string (nullable = true)\n",
      " |-- MeasureName: string (nullable = true)\n",
      " |-- Score: string (nullable = true)\n",
      " |-- Sample: string (nullable = true)\n",
      " |-- Stateavg: string (nullable = true)\n",
      "\n"
     ]
    }
   ],
   "source": [
    "spark.read.option(\"header\", True).csv(\"../testdata/hospital.csv\").createOrReplaceTempView(\"hospital\")\n",
    "spark.table('hospital').printSchema()"
   ]
  },
  {
   "cell_type": "code",
   "execution_count": 5,
   "id": "4b41ada2-5cd8-4e9b-89f4-9e8aa36ef948",
   "metadata": {
    "collapsed": true,
    "jupyter": {
     "outputs_hidden": true,
     "source_hidden": true
    },
    "tags": []
   },
   "outputs": [
    {
     "name": "stderr",
     "output_type": "stream",
     "text": [
      "[Stage 1:>                                                          (0 + 1) / 1]\r"
     ]
    },
    {
     "name": "stdout",
     "output_type": "stream",
     "text": [
      "+----------------+-----------+-------+\n",
      "|        attrName|distinctCnt|nullCnt|\n",
      "+----------------+-----------+-------+\n",
      "|EmergencyService|          6|      0|\n",
      "|    HospitalName|         68|      0|\n",
      "|      CountyName|         65|      0|\n",
      "|          Sample|        355|     60|\n",
      "|   HospitalOwner|         28|      0|\n",
      "|         ZipCode|         67|      0|\n",
      "|     MeasureName|         63|      0|\n",
      "|             tid|       1000|      0|\n",
      "|  ProviderNumber|         71|      0|\n",
      "|    HospitalType|         13|      0|\n",
      "|     PhoneNumber|         72|      0|\n",
      "|     MeasureCode|         56|      0|\n",
      "|           Score|         71|    167|\n",
      "|       Condition|         28|      0|\n",
      "|        Address1|         78|      0|\n",
      "|            City|         72|      0|\n",
      "|        Address3|          0|   1000|\n",
      "|           State|          4|      0|\n",
      "|        Address2|          0|   1000|\n",
      "|        Stateavg|         74|      0|\n",
      "+----------------+-----------+-------+\n",
      "\n"
     ]
    },
    {
     "name": "stderr",
     "output_type": "stream",
     "text": [
      "                                                                                \r"
     ]
    }
   ],
   "source": [
    "from repair.misc import RepairMisc\n",
    "RepairMisc().option(\"table_name\", \"hospital\").describe().selectExpr('attrName', 'distinctCnt', 'nullCnt').show()"
   ]
  },
  {
   "cell_type": "code",
   "execution_count": 22,
   "id": "f6d55d8d-d4ac-4652-bc92-7494800b821b",
   "metadata": {
    "jupyter": {
     "source_hidden": true
    },
    "tags": []
   },
   "outputs": [],
   "source": [
    "def display_depgraph(table_name, targets='', min_corr_thres=0.90, max_attr_value_num=30, max_domain_size=100):\n",
    "    import uuid\n",
    "    output = uuid.uuid4().hex[0:36]\n",
    "    \n",
    "    from repair.misc import RepairMisc\n",
    "    opts = {\n",
    "        \"table_name\": table_name,\n",
    "        \"path\": f\"/tmp/{output}\",\n",
    "        \"target_attr_list\": targets,\n",
    "        \"min_corr_thres\": f\"{min_corr_thres}\",\n",
    "        \"max_attr_value_num\": f\"{max_attr_value_num}\",\n",
    "        \"max_domain_size\": f\"{max_domain_size}\"\n",
    "    }\n",
    "    RepairMisc().options({\"table_name\": table_name, \"path\": f\"/tmp/{output}\", \"target_attr_list\": targets, \"min_corr_thres\": f\"{min_corr_thres}\", \"max_attr_value_num\": f\"{max_attr_value_num}\", \"\": \"\"}).generateDepGraph()\n",
    "    !dot -Tjpg /tmp/{output}/depgraph.dot -o /tmp/{output}/depgraph.jpg\n",
    "\n",
    "    from IPython.display import SVG, display, Image\n",
    "    display(Image(filename=f'/tmp/{output}/depgraph.jpg')) "
   ]
  },
  {
   "cell_type": "code",
   "execution_count": null,
   "id": "568f24d5-cc01-4606-ab8d-d25184b89f0e",
   "metadata": {
    "jupyter": {
     "source_hidden": true
    },
    "tags": []
   },
   "outputs": [],
   "source": [
    "display_depgraph('hospital', 'City,PhoneNumber,ProviderNumber', max_attr_value_num=30)"
   ]
  },
  {
   "cell_type": "code",
   "execution_count": 6,
   "id": "5bbfe353-0ced-4d1c-ad9d-50fb0ff67084",
   "metadata": {},
   "outputs": [],
   "source": [
    "pdf = spark.table('hospital').toPandas()"
   ]
  },
  {
   "cell_type": "code",
   "execution_count": 7,
   "id": "ecea1804-388f-4b50-9765-b033bb15fd5f",
   "metadata": {
    "jupyter": {
     "source_hidden": true
    },
    "tags": []
   },
   "outputs": [],
   "source": [
    "def to_histogram(pdf):\n",
    "    import altair as alt\n",
    "    charts = []\n",
    "    for c in pdf:\n",
    "        c = alt.Chart(pdf).mark_bar().encode(x=alt.X(c), y=alt.Y('count()', axis=alt.Axis(title='freq')))\n",
    "        charts.append(c.properties(width=300, height=300))\n",
    "\n",
    "    return alt.hconcat(*charts)"
   ]
  },
  {
   "cell_type": "code",
   "execution_count": null,
   "id": "83253425-a8b1-4836-8dd9-c8f39e672cf0",
   "metadata": {
    "jupyter": {
     "source_hidden": true
    },
    "tags": []
   },
   "outputs": [],
   "source": [
    "to_histogram(pdf[pdf.columns[pdf.columns != 'tid']])"
   ]
  },
  {
   "cell_type": "code",
   "execution_count": null,
   "id": "3c88c50b-1b4c-4cbc-9057-2f8b009fb215",
   "metadata": {
    "jupyter": {
     "source_hidden": true
    },
    "tags": []
   },
   "outputs": [],
   "source": [
    "import math\n",
    "import numpy as np\n",
    "from sklearn.cluster import AgglomerativeClustering, AffinityPropagation\n",
    "from repair.costs import Levenshtein\n",
    "\n",
    "target = 'City'\n",
    "cost_func = Levenshtein().compute\n",
    "\n",
    "value_counts = dict([(r[0], r.cnt) for r in spark.table('hospital').groupBy(target).agg(f.expr('count(1) cnt')).collect()])\n",
    "values = np.asarray(list(value_counts.keys()))\n",
    "X = -1 * np.array([[cost_func(v1, v2) for v1 in values] for v2 in values])\n",
    "\n",
    "# clg = AffinityPropagation(affinity='precomputed', damping=0.5, max_iter=200, convergence_iter=15, random_state=42)\n",
    "clg = AgglomerativeClustering(n_clusters=35)\n",
    "clg.fit(X)\n",
    "\n",
    "domain_values = []\n",
    "for cid in np.unique(clg.labels_):\n",
    "    g = np.unique(values[np.nonzero(clg.labels_ == cid)])\n",
    "    grouped_values = sorted([(v, value_counts[v]) for v in g], key=lambda v: v[1], reverse=True)\n",
    "    # print('**{}** => {}'.format(grouped_values[0], grouped_values[1:]))\n",
    "    domain_values.append(grouped_values[0][0])\n",
    "    \n",
    "print(domain_values)    "
   ]
  },
  {
   "cell_type": "code",
   "execution_count": null,
   "id": "977ebc48-3cd9-4b1a-8cea-36adc831a8c2",
   "metadata": {
    "jupyter": {
     "source_hidden": true
    },
    "tags": []
   },
   "outputs": [],
   "source": [
    "import math\n",
    "import numpy as np\n",
    "from sklearn.cluster import AgglomerativeClustering, AffinityPropagation\n",
    "from repair.costs import Levenshtein\n",
    "\n",
    "target = ['City', 'ZipCode']\n",
    "\n",
    "def cost_func(x, y):\n",
    "    cf = Levenshtein().compute\n",
    "    return sum([cf(v1, v2) for v1, v2 in zip(x, y)])\n",
    "\n",
    "value_counts = dict([((r[0], r[1]), r.cnt) for r in spark.table('hospital').groupBy(target).agg(f.expr('count(1) cnt')).collect()])\n",
    "values = np.asarray(list(value_counts.keys()))\n",
    "X = -1 * np.array([[cost_func(v1, v2) for v1 in values] for v2 in values])\n",
    "\n",
    "# clg = AffinityPropagation(affinity='precomputed', damping=0.5, max_iter=200, convergence_iter=15, random_state=42)\n",
    "# clg = AgglomerativeClustering(n_clusters=70)\n",
    "clg = AgglomerativeClustering(n_clusters=None, distance_threshold=20)\n",
    "clg.fit(X)\n",
    "\n",
    "for cid in np.unique(clg.labels_):\n",
    "    g = values[np.nonzero(clg.labels_ == cid)]\n",
    "    grouped_values = sorted([((v[0], v[1]), value_counts[(v[0], v[1])]) for v in g], key=lambda x: x[1], reverse=True)\n",
    "    # grouped_values = list(map(lambda x: (x[0][1], x[1]), grouped_values))\n",
    "    print('**{}** => {}'.format(grouped_values[0], grouped_values[1:]))"
   ]
  },
  {
   "cell_type": "code",
   "execution_count": 7,
   "id": "af07c5ad-13b5-40bd-981e-726132cf05c9",
   "metadata": {},
   "outputs": [],
   "source": [
    "target_columns = ['ProviderNumber', 'HospitalName', 'Address1', 'City', 'State', 'ZipCode', 'CountyName', 'PhoneNumber', 'HospitalType', 'HospitalOwner', 'EmergencyService', 'Condition', 'MeasureCode', 'MeasureName', 'Score', 'Stateavg']"
   ]
  },
  {
   "cell_type": "code",
   "execution_count": 8,
   "id": "6b80f456-ae75-4d31-b831-7e21d18a0e60",
   "metadata": {},
   "outputs": [],
   "source": [
    "target = 'HospitalName'"
   ]
  },
  {
   "cell_type": "code",
   "execution_count": 9,
   "id": "d1f07dec-4a2e-4a45-ae41-21b642db4c62",
   "metadata": {},
   "outputs": [
    {
     "name": "stderr",
     "output_type": "stream",
     "text": [
      "2021-11-23 00:19:59.545 INFO model: Elapsed time (name: error detection) is 6.010688781738281(s)\n",
      "2021-11-23 00:20:01.154 INFO model: Repairable target columns are HospitalName in noisy columns (HospitalName)\n",
      "2021-11-23 00:20:01.155 INFO model: [Error Detection Phase] Analyzing cell domains to fix error cells...\n",
      "2021-11-23 00:20:31.699 INFO model: Elapsed time (name: cell domain analysis) is 30.543703079223633(s)\n",
      "2021-11-23 00:20:36.436 INFO model: [Error Detection Phase] 21 noisy cells fixed and 24 error cells remaining...\n"
     ]
    }
   ],
   "source": [
    "from repair.detectors import *\n",
    "error_detectors = [\n",
    "    DomainValues(target, autofill=True, min_count_thres=12)\n",
    "]\n",
    "\n",
    "from repair.model import RepairModel\n",
    "m = RepairModel().setTableName('hospital').setRowId('tid').setErrorDetectors(error_detectors).setTargets(target_columns)\n",
    "detected_error_cells_df, target_columns, pairwise_stats, distinct_stats = m._do_error_detection('hospital', [])"
   ]
  },
  {
   "cell_type": "code",
   "execution_count": 10,
   "id": "dded9bf0-f3b8-4736-a968-6591893cd203",
   "metadata": {},
   "outputs": [
    {
     "name": "stdout",
     "output_type": "stream",
     "text": [
      "+----------------+-----+\n",
      "|       attribute|count|\n",
      "+----------------+-----+\n",
      "|     MeasureCode|   29|\n",
      "|  ProviderNumber|   28|\n",
      "|    HospitalName|   24|\n",
      "|      CountyName|   39|\n",
      "|           State|   26|\n",
      "|   HospitalOwner|   27|\n",
      "|          Sample|   31|\n",
      "|     PhoneNumber|   34|\n",
      "|     MeasureName|   36|\n",
      "|         ZipCode|   30|\n",
      "|           Score|   23|\n",
      "|    HospitalType|   32|\n",
      "|EmergencyService|   27|\n",
      "|       Condition|   32|\n",
      "|        Stateavg|   27|\n",
      "|        Address1|   31|\n",
      "|            City|   33|\n",
      "+----------------+-----+\n",
      "\n"
     ]
    }
   ],
   "source": [
    "spark.read.option(\"header\", True).csv(\"../bin/testdata/hospital_error_cells.csv\").createOrReplaceTempView(\"hospital_error_cells\")\n",
    "spark.table('hospital_error_cells').groupBy('attribute').count().show()"
   ]
  },
  {
   "cell_type": "code",
   "execution_count": 11,
   "id": "710ffad7-9513-481b-8ddd-a81829e4de31",
   "metadata": {},
   "outputs": [
    {
     "name": "stderr",
     "output_type": "stream",
     "text": [
      "                                                                                \r"
     ]
    }
   ],
   "source": [
    "from repair.model import RepairModel\n",
    "m = RepairModel().setTableName('hospital').setRowId('tid').setDiscreteThreshold(100) \n",
    "# error_cells_df = spark.table('hospital_error_cells')\n",
    "error_cells_df = detected_error_cells_df\n",
    "repair_base_df = m._prepare_repair_base_cells('hospital', error_cells_df, target_columns)\n",
    "pdf = repair_base_df.toPandas()"
   ]
  },
  {
   "cell_type": "code",
   "execution_count": null,
   "id": "95d5cdb9-99ec-422a-8d56-6b4954808b67",
   "metadata": {
    "jupyter": {
     "source_hidden": true
    },
    "tags": []
   },
   "outputs": [],
   "source": [
    "to_histogram(pdf[pdf.columns[pdf.columns != 'tid']])"
   ]
  },
  {
   "cell_type": "code",
   "execution_count": 12,
   "id": "0e864e5c-0689-42b4-bd02-4b75ddba6e88",
   "metadata": {},
   "outputs": [],
   "source": [
    "X_test = pdf[pdf[target].isna()].drop([target], axis=1).reset_index(drop=True)\n",
    "pdf = pdf[pdf[target].notna()]\n",
    "X = pdf.drop(['tid', target], axis=1).reset_index(drop=True)\n",
    "y = pdf[target].reset_index(drop=True)"
   ]
  },
  {
   "cell_type": "code",
   "execution_count": 13,
   "id": "5b349013-0ede-43d3-a3ac-bf98e81275f0",
   "metadata": {},
   "outputs": [],
   "source": [
    "import category_encoders as ce\n",
    "se = ce.OrdinalEncoder(handle_unknown='impute')\n",
    "X = se.fit_transform(X)\n",
    "_X_test = se.transform(X_test[X.columns]).copy(deep=True)\n",
    "X_test = pd.concat([X_test[['tid']], _X_test], axis=1)"
   ]
  },
  {
   "cell_type": "code",
   "execution_count": null,
   "id": "a50c98d4-2e8b-4586-99f5-882af5b545fa",
   "metadata": {
    "jupyter": {
     "source_hidden": true
    },
    "tags": []
   },
   "outputs": [],
   "source": [
    "def to_splom(pdf, target, cols=None):\n",
    "    import altair as alt\n",
    "    _cols = cols if cols is not None else [c for c in pdf.columns if c != target]\n",
    "    chart = alt.Chart(pdf).mark_circle().encode(\n",
    "        alt.X(alt.repeat(\"column\"), type='quantitative'),\n",
    "        alt.Y(alt.repeat(\"row\"), type='quantitative'),\n",
    "        color=f'{target}:N'\n",
    "    )\n",
    "    chart = chart.properties(width=150, height=150)\n",
    "    chart = chart.repeat(\n",
    "        row=_cols,\n",
    "        column=_cols\n",
    "    )\n",
    "    return chart"
   ]
  },
  {
   "cell_type": "code",
   "execution_count": null,
   "id": "e8f61266-8e7b-48d9-8e64-6c078bf8192f",
   "metadata": {
    "jupyter": {
     "source_hidden": true
    },
    "tags": []
   },
   "outputs": [],
   "source": [
    "cols = ['ProviderNumber', 'HospitalName', 'Address1', 'City', 'State', 'ZipCode', 'CountyName', 'PhoneNumber', 'HospitalType', 'HospitalOwner', 'EmergencyService', 'Condition', 'MeasureCode', 'MeasureName', 'Score', 'Sample', 'Stateavg']\n",
    "_y = y.replace(dict(map(lambda v: (v[1], v[0]), enumerate(y.unique()))))\n",
    "to_splom(pd.concat([X, _y], axis=1), target, cols=cols)"
   ]
  },
  {
   "cell_type": "code",
   "execution_count": null,
   "id": "d76ed7e9-d52f-4d9a-b11c-e33969169fe6",
   "metadata": {
    "jupyter": {
     "source_hidden": true
    },
    "tags": []
   },
   "outputs": [],
   "source": [
    "def compute_mi_between_features(pdf):\n",
    "    from minepy import MINE\n",
    "    results = []\n",
    "    mine = MINE(alpha=0.6, c=15, est=\"mic_approx\")\n",
    "\n",
    "    import itertools\n",
    "    for c1, c2 in itertools.combinations(pdf.columns, 2):\n",
    "        mine.compute_score(pdf[c1], pdf[c2])\n",
    "        results.append(((c1, c2), mine.mic()))\n",
    "\n",
    "    return sorted(results, key=lambda x: x[1], reverse=True)"
   ]
  },
  {
   "cell_type": "code",
   "execution_count": null,
   "id": "5edf4c4d-827d-4477-8290-a9002518c104",
   "metadata": {
    "jupyter": {
     "source_hidden": true
    },
    "tags": []
   },
   "outputs": [],
   "source": [
    "cols = ['ProviderNumber', 'HospitalName', 'Address1', 'City', 'State', 'ZipCode', 'CountyName', 'PhoneNumber', 'HospitalType', 'HospitalOwner', 'EmergencyService', 'Condition', 'MeasureCode', 'MeasureName', 'Score', 'Sample', 'Stateavg']\n",
    "cols = [c for c in cols if c != target]\n",
    "mi_between_features = compute_mi_between_features(X[cols])\n",
    "print(mi_between_features[0:3])"
   ]
  },
  {
   "cell_type": "code",
   "execution_count": 17,
   "id": "4e82ae89-d506-4268-bb58-96afbb5881f2",
   "metadata": {
    "jupyter": {
     "source_hidden": true
    },
    "tags": []
   },
   "outputs": [],
   "source": [
    "def compute_mi(X, y):\n",
    "    from minepy import MINE\n",
    "    results = []\n",
    "    mine = MINE(alpha=0.6, c=15, est=\"mic_approx\")\n",
    "\n",
    "    for c in X.columns:\n",
    "        mine.compute_score(y, X[c])\n",
    "        results.append(((target, c), mine.mic()))\n",
    "\n",
    "    return sorted(results, key=lambda x: x[1], reverse=True)"
   ]
  },
  {
   "cell_type": "code",
   "execution_count": null,
   "id": "967c0341-cbc1-4ef3-8649-9959d730a63c",
   "metadata": {
    "jupyter": {
     "source_hidden": true
    },
    "tags": []
   },
   "outputs": [],
   "source": [
    "cols = ['ProviderNumber', 'HospitalName', 'Address1', 'City', 'State', 'ZipCode', 'CountyName', 'PhoneNumber', 'HospitalType', 'HospitalOwner', 'EmergencyService', 'Condition', 'MeasureCode', 'MeasureName', 'Score', 'Sample', 'Stateavg']\n",
    "cols = [c for c in cols if c != target]\n",
    "mi_against_target = compute_mi(X[cols], y)\n",
    "selected_features_with_mi = list(map(lambda x: x[0][1], mi_against_target))[0:6]"
   ]
  },
  {
   "cell_type": "code",
   "execution_count": null,
   "id": "f7dd208d-9e21-47a0-9821-7d071502996b",
   "metadata": {
    "jupyter": {
     "source_hidden": true
    },
    "tags": []
   },
   "outputs": [],
   "source": [
    "def select_features_with_bruta(X, y, is_discrete=True):\n",
    "    from sklearn.ensemble import RandomForestClassifier, RandomForestRegressor\n",
    "    from boruta import BorutaPy\n",
    "    model_class = RandomForestClassifier if is_discrete else RandomForestRegressor\n",
    "    rf = model_class(n_jobs=-1, max_depth=5)\n",
    "    rf.fit(X, y)\n",
    "    print('SCORE with ALL Features: %1.2f' % rf.score(X, y))\n",
    "\n",
    "    rf = model_class(n_jobs=-1, max_depth=5)\n",
    "    fs = BorutaPy(rf, n_estimators='auto', random_state=42, perc=80, two_step=False, max_iter=500)\n",
    "    fs.fit(X.values, y.values)\n",
    "\n",
    "    selected = fs.support_\n",
    "    X_selected = X[X.columns[selected]]\n",
    "    rf = model_class(n_jobs=-1, max_depth=5)\n",
    "    rf.fit(X_selected, y)\n",
    "    print('SCORE with selected Features: %1.2f' % rf.score(X_selected, y))\n",
    "    \n",
    "    return X.columns[selected]"
   ]
  },
  {
   "cell_type": "code",
   "execution_count": null,
   "id": "9cea6a4e-0cdf-4299-a21c-d5e662bbb8e9",
   "metadata": {
    "jupyter": {
     "source_hidden": true
    },
    "tags": []
   },
   "outputs": [],
   "source": [
    "selected_features_with_bruta = select_features_with_bruta(X.fillna(-255.0), y, is_discrete=True)"
   ]
  },
  {
   "cell_type": "code",
   "execution_count": 15,
   "id": "4a709dc4-be3a-4930-b857-dd101bfbd673",
   "metadata": {},
   "outputs": [],
   "source": [
    "# X_selected = X[selected_features_with_mi]\n",
    "X_selected = X"
   ]
  },
  {
   "cell_type": "code",
   "execution_count": null,
   "id": "fb9ee9cf-4b97-4327-9c35-1e50e28080a9",
   "metadata": {
    "jupyter": {
     "source_hidden": true
    },
    "tags": []
   },
   "outputs": [],
   "source": [
    "def to_tsne(X, y, target, nsample=100, perplexity=50, n_iter=10000):\n",
    "    # One of non-linear embedding in sklearn\n",
    "    from sklearn.manifold import TSNE\n",
    "    tsne = TSNE(n_components=2, random_state=42, perplexity=perplexity, n_iter=n_iter)\n",
    "    _pdf = X.copy(deep=True)\n",
    "    _pdf[target] = y\n",
    "    _pdf_sampled = _pdf.dropna().sample(n=nsample, random_state=42)\n",
    "    _X = _pdf_sampled[_pdf_sampled.columns[_pdf_sampled.columns != target]]\n",
    "    _y = _pdf_sampled[target]\n",
    "    _tf = tsne.fit_transform(_X)\n",
    "    _X = pd.DataFrame({'tSNE-X': _tf[:, 0], 'tSNE-Y': _tf[:, 1], target: _y})\n",
    "    print('KL divergence: {}'.format(tsne.kl_divergence_))\n",
    "\n",
    "    import altair as alt\n",
    "    chart = alt.Chart(_X).mark_point().encode(x='tSNE-X', y='tSNE-Y', color=f'{target}:N').properties(width=600, height=400).interactive()\n",
    "    return chart"
   ]
  },
  {
   "cell_type": "code",
   "execution_count": null,
   "id": "1f847e3a-6d51-4cbc-b88f-ce54efa300e0",
   "metadata": {
    "jupyter": {
     "source_hidden": true
    },
    "tags": []
   },
   "outputs": [],
   "source": [
    "to_tsne(X_selected, y, target=target, nsample=100, perplexity=100, n_iter=250)"
   ]
  },
  {
   "cell_type": "code",
   "execution_count": 16,
   "id": "b9360fe3-ca2d-4bed-ac80-a0d2f92d6220",
   "metadata": {},
   "outputs": [
    {
     "name": "stderr",
     "output_type": "stream",
     "text": [
      "2021-11-23 00:22:50.581 INFO train: hyperopt: #eval=34/100000000\n"
     ]
    },
    {
     "name": "stdout",
     "output_type": "stream",
     "text": [
      "Score: 0.9851851851851853\n"
     ]
    }
   ],
   "source": [
    "from repair import train\n",
    "params = {'hp.timeout': '3600', 'hp.no_progress_loss': '30'}\n",
    "(clf, score), _ = train.build_model(X_selected, y, is_discrete=True, num_class=len(y.unique()), n_jobs=-1, opts=params)\n",
    "print(f'Score: {score}')\n",
    "\n",
    "# import lightgbm as lgb\n",
    "# obj = 'multiclass' if len(y.unique()) > 2 else 'binary'\n",
    "# clf = lgb.LGBMClassifier(objective=obj, num_leaves=64, min_child_samples=20, max_depth=7)\n",
    "# clf.fit(X[X.columns[selected]], y)\n",
    "\n",
    "import json\n",
    "top_k = 3\n",
    "probs = clf.predict_proba(X_test[X_selected.columns])\n",
    "pmf = map(lambda p: {\"classes\": clf.classes_.tolist(), \"probs\": p.tolist()}, probs)\n",
    "pmf = map(lambda p: json.dumps(p), pmf)\n",
    "df = spark.createDataFrame(pd.DataFrame({'tid': X_test['tid'], 'pmf': pd.Series(list(pmf))}))\n",
    "df = df.selectExpr('tid', 'from_json(pmf, \"classes array<string>, probs array<double>\") pmf')\n",
    "df = df.selectExpr('tid', 'arrays_zip(pmf.classes, pmf.probs) pmf')\n",
    "df = df.selectExpr('tid', f'slice(array_sort(pmf, (left, right) -> if(left.`1` < right.`1`, 1, -1)), 1, {top_k}) top_k_pmf')\n",
    "df = df.selectExpr('tid', f'top_k_pmf[0].`0` `{target}`', 'top_k_pmf')\n",
    "predicted = df.toPandas()"
   ]
  },
  {
   "cell_type": "code",
   "execution_count": 17,
   "id": "0dae6007-9c14-4829-864c-479a49d9755e",
   "metadata": {},
   "outputs": [
    {
     "data": {
      "text/html": [
       "<div>\n",
       "<style scoped>\n",
       "    .dataframe tbody tr th:only-of-type {\n",
       "        vertical-align: middle;\n",
       "    }\n",
       "\n",
       "    .dataframe tbody tr th {\n",
       "        vertical-align: top;\n",
       "    }\n",
       "\n",
       "    .dataframe thead th {\n",
       "        text-align: right;\n",
       "    }\n",
       "</style>\n",
       "<table border=\"1\" class=\"dataframe\">\n",
       "  <thead>\n",
       "    <tr style=\"text-align: right;\">\n",
       "      <th></th>\n",
       "      <th>tid</th>\n",
       "      <th>HospitalName</th>\n",
       "      <th>top_k_pmf</th>\n",
       "      <th>correct_val</th>\n",
       "      <th>is_correct</th>\n",
       "    </tr>\n",
       "  </thead>\n",
       "  <tbody>\n",
       "    <tr>\n",
       "      <th>0</th>\n",
       "      <td>448</td>\n",
       "      <td>alaska regional hospital</td>\n",
       "      <td>[(alaska regional hospital, 0.9516426716090051), (yukon kuskokwim delta reg hospital, 0.001990611522120863), (flowers hospital, 0.0019150163546613847)]</td>\n",
       "      <td>alaska regional hospital</td>\n",
       "      <td>True</td>\n",
       "    </tr>\n",
       "    <tr>\n",
       "      <th>1</th>\n",
       "      <td>987</td>\n",
       "      <td>st vincents blount</td>\n",
       "      <td>[(st vincents blount, 0.9625432567891526), (cherokee medical center, 0.0019179267195009936), (mizell memorial hospital, 0.0015509627736554534)]</td>\n",
       "      <td>st vincents blount</td>\n",
       "      <td>True</td>\n",
       "    </tr>\n",
       "    <tr>\n",
       "      <th>2</th>\n",
       "      <td>938</td>\n",
       "      <td>georgiana hospital</td>\n",
       "      <td>[(georgiana hospital, 0.9677953138917824), (wedowee hospital, 0.0013972077868015182), (mizell memorial hospital, 0.0013647296879550602)]</td>\n",
       "      <td>georgiana hospital</td>\n",
       "      <td>True</td>\n",
       "    </tr>\n",
       "    <tr>\n",
       "      <th>3</th>\n",
       "      <td>710</td>\n",
       "      <td>community hospital inc</td>\n",
       "      <td>[(community hospital inc, 0.9415584095676152), (georgiana hospital, 0.0039735925567958635), (chilton medical center, 0.003906455939064058)]</td>\n",
       "      <td>community hospital inc</td>\n",
       "      <td>True</td>\n",
       "    </tr>\n",
       "    <tr>\n",
       "      <th>4</th>\n",
       "      <td>903</td>\n",
       "      <td>riverview regional medical center</td>\n",
       "      <td>[(riverview regional medical center, 0.9766403794149595), (gadsden regional medical center, 0.0024561505396570467), (alaska regional hospital, 0.001095797460148253)]</td>\n",
       "      <td>riverview regional medical center</td>\n",
       "      <td>True</td>\n",
       "    </tr>\n",
       "    <tr>\n",
       "      <th>5</th>\n",
       "      <td>730</td>\n",
       "      <td>cullman regional medical center</td>\n",
       "      <td>[(cullman regional medical center, 0.9442216908428867), (russellville hospital, 0.0035496896325332918), (helen keller memorial hospital, 0.0030041020288808407)]</td>\n",
       "      <td>cullman regional medical center</td>\n",
       "      <td>True</td>\n",
       "    </tr>\n",
       "    <tr>\n",
       "      <th>6</th>\n",
       "      <td>171</td>\n",
       "      <td>marshall medical center north</td>\n",
       "      <td>[(marshall medical center north, 0.9674367096981593), (marshall medical center south, 0.0023722095376425764), (southeast alabama medical center, 0.0010704329640654905)]</td>\n",
       "      <td>marshall medical center north</td>\n",
       "      <td>True</td>\n",
       "    </tr>\n",
       "    <tr>\n",
       "      <th>7</th>\n",
       "      <td>697</td>\n",
       "      <td>community hospital inc</td>\n",
       "      <td>[(community hospital inc, 0.9535686787930674), (yukon kuskokwim delta reg hospital, 0.004145059078624614), (georgiana hospital, 0.0038415049755379637)]</td>\n",
       "      <td>community hospital inc</td>\n",
       "      <td>True</td>\n",
       "    </tr>\n",
       "    <tr>\n",
       "      <th>8</th>\n",
       "      <td>560</td>\n",
       "      <td>jackson hospital &amp; clinic inc</td>\n",
       "      <td>[(jackson hospital &amp; clinic inc, 0.9612222889753633), (baptist medical center south, 0.002381728354028024), (yukon kuskokwim delta reg hospital, 0.0014982381382101268)]</td>\n",
       "      <td>jackson hospital &amp; clinic inc</td>\n",
       "      <td>True</td>\n",
       "    </tr>\n",
       "    <tr>\n",
       "      <th>9</th>\n",
       "      <td>921</td>\n",
       "      <td>riverview regional medical center</td>\n",
       "      <td>[(riverview regional medical center, 0.9614070792889622), (gadsden regional medical center, 0.0038683505351241754), (andalusia regional hospital, 0.0021057043953144113)]</td>\n",
       "      <td>riverview regional medical center</td>\n",
       "      <td>True</td>\n",
       "    </tr>\n",
       "    <tr>\n",
       "      <th>10</th>\n",
       "      <td>131</td>\n",
       "      <td>crenshaw community hospital</td>\n",
       "      <td>[(crenshaw community hospital, 0.9665060243941714), (huntsville hospital, 0.0018602706391011427), (yukon kuskokwim delta reg hospital, 0.0011752994246987003)]</td>\n",
       "      <td>crenshaw community hospital</td>\n",
       "      <td>True</td>\n",
       "    </tr>\n",
       "    <tr>\n",
       "      <th>11</th>\n",
       "      <td>26</td>\n",
       "      <td>southeast alabama medical center</td>\n",
       "      <td>[(southeast alabama medical center, 0.951880647165428), (flowers hospital, 0.0033958721686637994), (yukon kuskokwim delta reg hospital, 0.0018278202210572408)]</td>\n",
       "      <td>southeast alabama medical center</td>\n",
       "      <td>True</td>\n",
       "    </tr>\n",
       "    <tr>\n",
       "      <th>12</th>\n",
       "      <td>385</td>\n",
       "      <td>univ of south alabama medical center</td>\n",
       "      <td>[(univ of south alabama medical center, 0.9637459527532386), (university of alabama hospital, 0.0015982273401713497), (jackson hospital &amp; clinic inc, 0.001148840569648064)]</td>\n",
       "      <td>univ of south alabama medical center</td>\n",
       "      <td>True</td>\n",
       "    </tr>\n",
       "    <tr>\n",
       "      <th>13</th>\n",
       "      <td>962</td>\n",
       "      <td>medical center enterprise</td>\n",
       "      <td>[(medical center enterprise, 0.9615720950334997), (elba general hospital, 0.0013218458769170026), (northwest medical center, 0.0011484350522701914)]</td>\n",
       "      <td>medical center enterprise</td>\n",
       "      <td>True</td>\n",
       "    </tr>\n",
       "    <tr>\n",
       "      <th>14</th>\n",
       "      <td>654</td>\n",
       "      <td>wedowee hospital</td>\n",
       "      <td>[(wedowee hospital, 0.8863842915475934), (st vincents east, 0.008971672040071576), (andalusia regional hospital, 0.004899246505463644)]</td>\n",
       "      <td>wedowee hospital</td>\n",
       "      <td>True</td>\n",
       "    </tr>\n",
       "    <tr>\n",
       "      <th>15</th>\n",
       "      <td>243</td>\n",
       "      <td>dekalb regional medical center</td>\n",
       "      <td>[(dekalb regional medical center, 0.967777788749799), (baptist medical center south, 0.0017189042008041832), (shelby baptist medical center, 0.0016071787061788644)]</td>\n",
       "      <td>dekalb regional medical center</td>\n",
       "      <td>True</td>\n",
       "    </tr>\n",
       "    <tr>\n",
       "      <th>16</th>\n",
       "      <td>922</td>\n",
       "      <td>riverview regional medical center</td>\n",
       "      <td>[(riverview regional medical center, 0.9612977324231271), (gadsden regional medical center, 0.0053921029779260676), (alaska regional hospital, 0.003422094601439967)]</td>\n",
       "      <td>riverview regional medical center</td>\n",
       "      <td>True</td>\n",
       "    </tr>\n",
       "    <tr>\n",
       "      <th>17</th>\n",
       "      <td>777</td>\n",
       "      <td>huntsville hospital</td>\n",
       "      <td>[(huntsville hospital, 0.883902739526671), (yukon kuskokwim delta reg hospital, 0.01415639519958674), (cullman regional medical center, 0.004218231520943637)]</td>\n",
       "      <td>huntsville hospital</td>\n",
       "      <td>True</td>\n",
       "    </tr>\n",
       "    <tr>\n",
       "      <th>18</th>\n",
       "      <td>384</td>\n",
       "      <td>univ of south alabama medical center</td>\n",
       "      <td>[(univ of south alabama medical center, 0.9340730603896672), (southwest alabama medical center, 0.004014830768444719), (university of alabama hospital, 0.0027060494076613924)]</td>\n",
       "      <td>univ of south alabama medical center</td>\n",
       "      <td>True</td>\n",
       "    </tr>\n",
       "    <tr>\n",
       "      <th>19</th>\n",
       "      <td>758</td>\n",
       "      <td>andalusia regional hospital</td>\n",
       "      <td>[(andalusia regional hospital, 0.970228116964583), (mizell memorial hospital, 0.0016154777050495762), (wedowee hospital, 0.0010254338683770776)]</td>\n",
       "      <td>andalusia regional hospital</td>\n",
       "      <td>True</td>\n",
       "    </tr>\n",
       "    <tr>\n",
       "      <th>20</th>\n",
       "      <td>337</td>\n",
       "      <td>flowers hospital</td>\n",
       "      <td>[(flowers hospital, 0.9438230494822903), (southeast alabama medical center, 0.006013332392567914), (medical center enterprise, 0.0019087495016942737)]</td>\n",
       "      <td>flowers hospital</td>\n",
       "      <td>True</td>\n",
       "    </tr>\n",
       "    <tr>\n",
       "      <th>21</th>\n",
       "      <td>765</td>\n",
       "      <td>andalusia regional hospital</td>\n",
       "      <td>[(andalusia regional hospital, 0.9702673001962724), (mizell memorial hospital, 0.0018550535606426857), (northwest medical center, 0.0009763734692368669)]</td>\n",
       "      <td>andalusia regional hospital</td>\n",
       "      <td>True</td>\n",
       "    </tr>\n",
       "    <tr>\n",
       "      <th>22</th>\n",
       "      <td>956</td>\n",
       "      <td>medical center enterprise</td>\n",
       "      <td>[(medical center enterprise, 0.9153602486612189), (callahan eye foundation hospital, 0.00538781329533059), (dale medical center, 0.004907711707758575)]</td>\n",
       "      <td>medical center enterprise</td>\n",
       "      <td>True</td>\n",
       "    </tr>\n",
       "    <tr>\n",
       "      <th>23</th>\n",
       "      <td>532</td>\n",
       "      <td>baptist medical center south</td>\n",
       "      <td>[(baptist medical center south, 0.9544085831345724), (jackson hospital &amp; clinic inc, 0.004624095426776004), (yukon kuskokwim delta reg hospital, 0.002731073164203978)]</td>\n",
       "      <td>baptist medical center south</td>\n",
       "      <td>True</td>\n",
       "    </tr>\n",
       "  </tbody>\n",
       "</table>\n",
       "</div>"
      ],
      "text/plain": [
       "    tid                          HospitalName  \\\n",
       "0   448              alaska regional hospital   \n",
       "1   987                    st vincents blount   \n",
       "2   938                    georgiana hospital   \n",
       "3   710                community hospital inc   \n",
       "4   903     riverview regional medical center   \n",
       "5   730       cullman regional medical center   \n",
       "6   171         marshall medical center north   \n",
       "7   697                community hospital inc   \n",
       "8   560         jackson hospital & clinic inc   \n",
       "9   921     riverview regional medical center   \n",
       "10  131           crenshaw community hospital   \n",
       "11   26      southeast alabama medical center   \n",
       "12  385  univ of south alabama medical center   \n",
       "13  962             medical center enterprise   \n",
       "14  654                      wedowee hospital   \n",
       "15  243        dekalb regional medical center   \n",
       "16  922     riverview regional medical center   \n",
       "17  777                   huntsville hospital   \n",
       "18  384  univ of south alabama medical center   \n",
       "19  758           andalusia regional hospital   \n",
       "20  337                      flowers hospital   \n",
       "21  765           andalusia regional hospital   \n",
       "22  956             medical center enterprise   \n",
       "23  532          baptist medical center south   \n",
       "\n",
       "                                                                                                                                                                          top_k_pmf  \\\n",
       "0                           [(alaska regional hospital, 0.9516426716090051), (yukon kuskokwim delta reg hospital, 0.001990611522120863), (flowers hospital, 0.0019150163546613847)]   \n",
       "1                                   [(st vincents blount, 0.9625432567891526), (cherokee medical center, 0.0019179267195009936), (mizell memorial hospital, 0.0015509627736554534)]   \n",
       "2                                          [(georgiana hospital, 0.9677953138917824), (wedowee hospital, 0.0013972077868015182), (mizell memorial hospital, 0.0013647296879550602)]   \n",
       "3                                       [(community hospital inc, 0.9415584095676152), (georgiana hospital, 0.0039735925567958635), (chilton medical center, 0.003906455939064058)]   \n",
       "4             [(riverview regional medical center, 0.9766403794149595), (gadsden regional medical center, 0.0024561505396570467), (alaska regional hospital, 0.001095797460148253)]   \n",
       "5                  [(cullman regional medical center, 0.9442216908428867), (russellville hospital, 0.0035496896325332918), (helen keller memorial hospital, 0.0030041020288808407)]   \n",
       "6          [(marshall medical center north, 0.9674367096981593), (marshall medical center south, 0.0023722095376425764), (southeast alabama medical center, 0.0010704329640654905)]   \n",
       "7                           [(community hospital inc, 0.9535686787930674), (yukon kuskokwim delta reg hospital, 0.004145059078624614), (georgiana hospital, 0.0038415049755379637)]   \n",
       "8          [(jackson hospital & clinic inc, 0.9612222889753633), (baptist medical center south, 0.002381728354028024), (yukon kuskokwim delta reg hospital, 0.0014982381382101268)]   \n",
       "9         [(riverview regional medical center, 0.9614070792889622), (gadsden regional medical center, 0.0038683505351241754), (andalusia regional hospital, 0.0021057043953144113)]   \n",
       "10                   [(crenshaw community hospital, 0.9665060243941714), (huntsville hospital, 0.0018602706391011427), (yukon kuskokwim delta reg hospital, 0.0011752994246987003)]   \n",
       "11                  [(southeast alabama medical center, 0.951880647165428), (flowers hospital, 0.0033958721686637994), (yukon kuskokwim delta reg hospital, 0.0018278202210572408)]   \n",
       "12     [(univ of south alabama medical center, 0.9637459527532386), (university of alabama hospital, 0.0015982273401713497), (jackson hospital & clinic inc, 0.001148840569648064)]   \n",
       "13                             [(medical center enterprise, 0.9615720950334997), (elba general hospital, 0.0013218458769170026), (northwest medical center, 0.0011484350522701914)]   \n",
       "14                                          [(wedowee hospital, 0.8863842915475934), (st vincents east, 0.008971672040071576), (andalusia regional hospital, 0.004899246505463644)]   \n",
       "15             [(dekalb regional medical center, 0.967777788749799), (baptist medical center south, 0.0017189042008041832), (shelby baptist medical center, 0.0016071787061788644)]   \n",
       "16            [(riverview regional medical center, 0.9612977324231271), (gadsden regional medical center, 0.0053921029779260676), (alaska regional hospital, 0.003422094601439967)]   \n",
       "17                   [(huntsville hospital, 0.883902739526671), (yukon kuskokwim delta reg hospital, 0.01415639519958674), (cullman regional medical center, 0.004218231520943637)]   \n",
       "18  [(univ of south alabama medical center, 0.9340730603896672), (southwest alabama medical center, 0.004014830768444719), (university of alabama hospital, 0.0027060494076613924)]   \n",
       "19                                 [(andalusia regional hospital, 0.970228116964583), (mizell memorial hospital, 0.0016154777050495762), (wedowee hospital, 0.0010254338683770776)]   \n",
       "20                           [(flowers hospital, 0.9438230494822903), (southeast alabama medical center, 0.006013332392567914), (medical center enterprise, 0.0019087495016942737)]   \n",
       "21                        [(andalusia regional hospital, 0.9702673001962724), (mizell memorial hospital, 0.0018550535606426857), (northwest medical center, 0.0009763734692368669)]   \n",
       "22                          [(medical center enterprise, 0.9153602486612189), (callahan eye foundation hospital, 0.00538781329533059), (dale medical center, 0.004907711707758575)]   \n",
       "23          [(baptist medical center south, 0.9544085831345724), (jackson hospital & clinic inc, 0.004624095426776004), (yukon kuskokwim delta reg hospital, 0.002731073164203978)]   \n",
       "\n",
       "                             correct_val  is_correct  \n",
       "0               alaska regional hospital        True  \n",
       "1                     st vincents blount        True  \n",
       "2                     georgiana hospital        True  \n",
       "3                 community hospital inc        True  \n",
       "4      riverview regional medical center        True  \n",
       "5        cullman regional medical center        True  \n",
       "6          marshall medical center north        True  \n",
       "7                 community hospital inc        True  \n",
       "8          jackson hospital & clinic inc        True  \n",
       "9      riverview regional medical center        True  \n",
       "10           crenshaw community hospital        True  \n",
       "11      southeast alabama medical center        True  \n",
       "12  univ of south alabama medical center        True  \n",
       "13             medical center enterprise        True  \n",
       "14                      wedowee hospital        True  \n",
       "15        dekalb regional medical center        True  \n",
       "16     riverview regional medical center        True  \n",
       "17                   huntsville hospital        True  \n",
       "18  univ of south alabama medical center        True  \n",
       "19           andalusia regional hospital        True  \n",
       "20                      flowers hospital        True  \n",
       "21           andalusia regional hospital        True  \n",
       "22             medical center enterprise        True  \n",
       "23          baptist medical center south        True  "
      ]
     },
     "execution_count": 17,
     "metadata": {},
     "output_type": "execute_result"
    }
   ],
   "source": [
    "spark.read.option(\"header\", True).csv(\"../testdata/hospital_clean.csv\").createOrReplaceTempView(\"hospital_clean\")\n",
    "pdf_clean = spark.table('hospital_clean').where(f'attribute = \"{target}\"').selectExpr('tid', 'correct_val').toPandas()\n",
    "result = pd.merge(predicted, pdf_clean, on='tid')\n",
    "result['is_correct'] = result[target] == result['correct_val']\n",
    "pd.set_option(\"display.max_colwidth\", 300)\n",
    "result"
   ]
  },
  {
   "cell_type": "code",
   "execution_count": 18,
   "id": "c3d22c2a-daba-474e-8e5d-8b581f4a911f",
   "metadata": {},
   "outputs": [
    {
     "name": "stdout",
     "output_type": "stream",
     "text": [
      "Accuracy: 1.0\n"
     ]
    }
   ],
   "source": [
    "print('Accuracy: {}'.format(len(result[result['is_correct']]) / len(result)))"
   ]
  },
  {
   "cell_type": "code",
   "execution_count": null,
   "id": "10ed4017-c215-4fc1-86fc-8c56b2a01154",
   "metadata": {},
   "outputs": [],
   "source": []
  }
 ],
 "metadata": {
  "kernelspec": {
   "display_name": "Python 3 (ipykernel)",
   "language": "python",
   "name": "python3"
  },
  "language_info": {
   "codemirror_mode": {
    "name": "ipython",
    "version": 3
   },
   "file_extension": ".py",
   "mimetype": "text/x-python",
   "name": "python",
   "nbconvert_exporter": "python",
   "pygments_lexer": "ipython3",
   "version": "3.7.11"
  }
 },
 "nbformat": 4,
 "nbformat_minor": 5
}
